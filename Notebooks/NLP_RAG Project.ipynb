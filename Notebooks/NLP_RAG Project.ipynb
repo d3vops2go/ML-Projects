{
 "cells": [
  {
   "cell_type": "markdown",
   "metadata": {
    "id": "3CNz35ia6Bz3"
   },
   "source": [
    "## Problem Statement"
   ]
  },
  {
   "cell_type": "markdown",
   "metadata": {
    "id": "CkRbhMJH6Bz3"
   },
   "source": [
    "### Business Context"
   ]
  },
  {
   "cell_type": "markdown",
   "metadata": {
    "id": "3PBm5xaj6Bz3"
   },
   "source": [
    "The healthcare industry is rapidly evolving, with professionals facing increasing challenges in managing vast volumes of medical data while delivering accurate and timely diagnoses. The need for quick access to comprehensive, reliable, and up-to-date medical knowledge is critical for improving patient outcomes and ensuring informed decision-making in a fast-paced environment.\n",
    "\n",
    "Healthcare professionals often encounter information overload, struggling to sift through extensive research and data to create accurate diagnoses and treatment plans. This challenge is amplified by the need for efficiency, particularly in emergencies, where time-sensitive decisions are vital. Furthermore, access to trusted, current medical information from renowned manuals and research papers is essential for maintaining high standards of care.\n",
    "\n",
    "To address these challenges, healthcare centers can focus on integrating systems that streamline access to medical knowledge, provide tools to support quick decision-making, and enhance efficiency. Leveraging centralized knowledge platforms and ensuring healthcare providers have continuous access to reliable resources can significantly improve patient care and operational effectiveness."
   ]
  },
  {
   "cell_type": "markdown",
   "metadata": {
    "id": "1xDPsqvO6Bz5"
   },
   "source": [
    "**Common Questions to Answer**\n",
    "\n",
    "**1. Diagnostic Assistance**: \"What are the common symptoms and treatments for pulmonary embolism?\"\n",
    "\n",
    "**2. Drug Information**: \"Can you provide the trade names of medications used for treating hypertension?\"\n",
    "\n",
    "**3. Treatment Plans**: \"What are the first-line options and alternatives for managing rheumatoid arthritis?\"\n",
    "\n",
    "**4. Specialty Knowledge**: \"What are the diagnostic steps for suspected endocrine disorders?\"\n",
    "\n",
    "**5. Critical Care Protocols**: \"What is the protocol for managing sepsis in a critical care unit?\""
   ]
  },
  {
   "cell_type": "markdown",
   "metadata": {
    "id": "CARPKFwm6Bz4"
   },
   "source": [
    "### Objective"
   ]
  },
  {
   "cell_type": "markdown",
   "metadata": {
    "id": "dOElOEXq6Bz4"
   },
   "source": [
    "As an AI specialist, your task is to develop a RAG-based AI solution using renowned medical manuals to address healthcare challenges. The objective is to **understand** issues like information overload, **apply** AI techniques to streamline decision-making, **analyze** its impact on diagnostics and patient outcomes, **evaluate** its potential to standardize care practices, and **create** a functional prototype demonstrating its feasibility and effectiveness."
   ]
  },
  {
   "cell_type": "markdown",
   "metadata": {
    "id": "by9EvAnkSpZf"
   },
   "source": [
    "### Data Description"
   ]
  },
  {
   "cell_type": "markdown",
   "metadata": {
    "id": "Jw5LievCSru2"
   },
   "source": [
    "The **Merck Manuals** are medical references published by the American pharmaceutical company Merck & Co., that cover a wide range of medical topics, including disorders, tests, diagnoses, and drugs. The manuals have been published since 1899, when Merck & Co. was still a subsidiary of the German company Merck.\n",
    "\n",
    "The manual is provided as a PDF with over 4,000 pages divided into 23 sections."
   ]
  },
  {
   "cell_type": "markdown",
   "metadata": {
    "id": "lnwETBOE6Bz5"
   },
   "source": [
    "## Installing and Importing Necessary Libraries and Dependencies"
   ]
  },
  {
   "cell_type": "code",
   "execution_count": null,
   "metadata": {
    "id": "q4GgLhZhUM4V"
   },
   "outputs": [],
   "source": [
    "# Installation for GPU llama-cpp-python\n",
    "# uncomment and run the following code in case GPU is being used\n",
    "!CMAKE_ARGS=\"-DLLAMA_CUBLAS=on\" FORCE_CMAKE=1 pip install llama-cpp-python==0.1.85 --force-reinstall --no-cache-dir -q\n",
    "\n",
    "# Installation for CPU llama-cpp-python\n",
    "# uncomment and run the following code in case GPU is not being used\n",
    "# !CMAKE_ARGS=\"-DLLAMA_CUBLAS=off\" FORCE_CMAKE=1 pip install llama-cpp-python==0.1.85 --force-reinstall --no-cache-dir -q"
   ]
  },
  {
   "cell_type": "markdown",
   "metadata": {
    "id": "mDp-EYZH-69E"
   },
   "source": [
    "**Note**:\n",
    "- After running the above cell, kindly restart the runtime (for Google Colab) or notebook kernel (for Jupyter Notebook), and run all cells sequentially from the next cell.\n",
    "- On executing the above line of code, you might see a warning regarding package dependencies. This error message can be ignored as the above code ensures that all necessary libraries and their dependencies are maintained to successfully execute the code in ***this notebook***."
   ]
  },
  {
   "cell_type": "code",
   "execution_count": null,
   "metadata": {
    "id": "0VOckDVkWGei"
   },
   "outputs": [],
   "source": [
    "# For installing the libraries & downloading models from HF Hub\n",
    "!pip install huggingface_hub==0.23.2 pandas tiktoken==0.6.0 pymupdf==1.25.1 langchain==0.1.1 langchain-community==0.0.13 chromadb==0.4.22 sentence-transformers==2.3.1 numpy -q"
   ]
  },
  {
   "cell_type": "markdown",
   "metadata": {
    "id": "y2EEYodpoUhW"
   },
   "source": [
    "**Note**:\n",
    "- After running the above cell, kindly restart the runtime (for Google Colab) or notebook kernel (for Jupyter Notebook), and run all cells sequentially from the next cell.\n",
    "- On executing the above line of code, you might see a warning regarding package dependencies. This error message can be ignored as the above code ensures that all necessary libraries and their dependencies are maintained to successfully execute the code in ***this notebook***."
   ]
  },
  {
   "cell_type": "code",
   "execution_count": 6,
   "metadata": {
    "executionInfo": {
     "elapsed": 2387,
     "status": "ok",
     "timestamp": 1752639403571,
     "user": {
      "displayName": "Arinjoy Paul",
      "userId": "07385845506721109358"
     },
     "user_tz": 300
    },
    "id": "RTY9GN4oWK3g"
   },
   "outputs": [],
   "source": [
    "#Libraries for processing dataframes,text\n",
    "import json,os\n",
    "import tiktoken\n",
    "import pandas as pd\n",
    "\n",
    "#Libraries for Loading Data, Chunking, Embedding, and Vector Databases\n",
    "from langchain.text_splitter import RecursiveCharacterTextSplitter\n",
    "from langchain_community.document_loaders import PyMuPDFLoader\n",
    "from langchain_community.embeddings.sentence_transformer import SentenceTransformerEmbeddings\n",
    "from langchain_community.vectorstores import Chroma\n",
    "\n",
    "#Libraries for downloading and loading the llm\n",
    "from huggingface_hub import hf_hub_download\n",
    "from llama_cpp import Llama\n",
    "\n",
    "#Ignore warnings\n",
    "import warnings\n",
    "warnings.filterwarnings('ignore')"
   ]
  },
  {
   "cell_type": "markdown",
   "metadata": {
    "id": "TtZWqj0wFTS1"
   },
   "source": [
    "## Question Answering using LLM"
   ]
  },
  {
   "cell_type": "markdown",
   "metadata": {
    "id": "Uq1lhM4WFTS2"
   },
   "source": [
    "#### Downloading and Loading the model"
   ]
  },
  {
   "cell_type": "code",
   "execution_count": 7,
   "metadata": {
    "executionInfo": {
     "elapsed": 615,
     "status": "ok",
     "timestamp": 1752639409618,
     "user": {
      "displayName": "Arinjoy Paul",
      "userId": "07385845506721109358"
     },
     "user_tz": 300
    },
    "id": "dA3XQMWmQLJp"
   },
   "outputs": [],
   "source": [
    "# Download and load the model\n",
    "model_path = hf_hub_download(repo_id=\"TheBloke/Mistral-7B-Instruct-v0.2-GGUF\", filename=\"mistral-7b-instruct-v0.2.Q6_K.gguf\")"
   ]
  },
  {
   "cell_type": "code",
   "execution_count": 8,
   "metadata": {
    "colab": {
     "base_uri": "https://localhost:8080/"
    },
    "executionInfo": {
     "elapsed": 12828,
     "status": "ok",
     "timestamp": 1752639424041,
     "user": {
      "displayName": "Arinjoy Paul",
      "userId": "07385845506721109358"
     },
     "user_tz": 300
    },
    "id": "rAgtMWyV1kLh",
    "outputId": "3556ae20-6965-43ab-d415-7da964b33b2d"
   },
   "outputs": [
    {
     "name": "stderr",
     "output_type": "stream",
     "text": [
      "AVX = 1 | AVX2 = 1 | AVX512 = 0 | AVX512_VBMI = 0 | AVX512_VNNI = 0 | FMA = 1 | NEON = 0 | ARM_FMA = 0 | F16C = 1 | FP16_VA = 0 | WASM_SIMD = 0 | BLAS = 1 | SSE3 = 1 | SSSE3 = 1 | VSX = 0 | \n"
     ]
    }
   ],
   "source": [
    "# Define the llm using the model_path\n",
    "llm = Llama(model_path=model_path,\n",
    "            n_gpu_layers=38,\n",
    "            n_ctx=4096,\n",
    "            n_batch=512)"
   ]
  },
  {
   "cell_type": "markdown",
   "metadata": {
    "id": "EzzkvIXvFTS4"
   },
   "source": [
    "#### Response"
   ]
  },
  {
   "cell_type": "code",
   "execution_count": 9,
   "metadata": {
    "executionInfo": {
     "elapsed": 17,
     "status": "ok",
     "timestamp": 1752639435769,
     "user": {
      "displayName": "Arinjoy Paul",
      "userId": "07385845506721109358"
     },
     "user_tz": 300
    },
    "id": "hG_IaZj0QLw4"
   },
   "outputs": [],
   "source": [
    "# Function to take the user query and generate response\n",
    "def response(query,max_tokens=128,temperature=0,top_p=0.95,top_k=50):\n",
    "    model_output = llm(\n",
    "      prompt=query,\n",
    "      max_tokens=max_tokens,\n",
    "      temperature=temperature,\n",
    "      top_p=top_p,\n",
    "      top_k=top_k\n",
    "    )\n",
    "\n",
    "    return model_output['choices'][0]['text']"
   ]
  },
  {
   "cell_type": "markdown",
   "metadata": {
    "id": "K8YgK91SFjVY"
   },
   "source": [
    "### Query 1: What is the protocol for managing sepsis in a critical care unit?"
   ]
  },
  {
   "cell_type": "code",
   "execution_count": 11,
   "metadata": {
    "colab": {
     "base_uri": "https://localhost:8080/",
     "height": 105
    },
    "executionInfo": {
     "elapsed": 4919,
     "status": "ok",
     "timestamp": 1752639455268,
     "user": {
      "displayName": "Arinjoy Paul",
      "userId": "07385845506721109358"
     },
     "user_tz": 300
    },
    "id": "-JLIVmpPQH0f",
    "outputId": "1048409e-31a1-4d6b-fb0b-bbe18ec7aa46"
   },
   "outputs": [
    {
     "name": "stderr",
     "output_type": "stream",
     "text": [
      "Llama.generate: prefix-match hit\n"
     ]
    },
    {
     "data": {
      "application/vnd.google.colaboratory.intrinsic+json": {
       "type": "string"
      },
      "text/plain": [
       "'\\n\\nSepsis is a life-threatening condition that can arise from an infection, and it requires prompt recognition and aggressive management in a critical care unit. The following are general steps for managing sepsis in a critical care unit:\\n\\n1. Early recognition: Recognize the signs and symptoms of sepsis early and initiate treatment as soon as possible. Sepsis can present with various clinical features, including fever or hypothermia, tachycardia or bradycardia, altered mental status, respiratory distress, and lactic acidosis.\\n2. Source control'"
      ]
     },
     "execution_count": 11,
     "metadata": {},
     "output_type": "execute_result"
    }
   ],
   "source": [
    "# User query1\n",
    "query1 = \"What is the protocol for managing sepsis in a critical care unit?\"\n",
    "response(query1)"
   ]
  },
  {
   "cell_type": "markdown",
   "metadata": {
    "id": "J6yxICeVFjVc"
   },
   "source": [
    "### Query 2: What are the common symptoms for appendicitis, and can it be cured via medicine? If not, what surgical procedure should be followed to treat it?"
   ]
  },
  {
   "cell_type": "code",
   "execution_count": 12,
   "metadata": {
    "colab": {
     "base_uri": "https://localhost:8080/",
     "height": 105
    },
    "executionInfo": {
     "elapsed": 5216,
     "status": "ok",
     "timestamp": 1752630870939,
     "user": {
      "displayName": "Arinjoy Paul",
      "userId": "07385845506721109358"
     },
     "user_tz": 300
    },
    "id": "BdiHRgEqQIP9",
    "outputId": "38bd1815-b828-40ba-e578-c12acd5499e3"
   },
   "outputs": [
    {
     "name": "stderr",
     "output_type": "stream",
     "text": [
      "Llama.generate: prefix-match hit\n"
     ]
    },
    {
     "data": {
      "application/vnd.google.colaboratory.intrinsic+json": {
       "type": "string"
      },
      "text/plain": [
       "'\\n\\nAppendicitis is a medical condition characterized by inflammation of the appendix, a small tube-shaped organ located in the lower right side of the abdomen. The symptoms of appendicitis can vary from person to person, but some common signs include:\\n\\n1. Abdominal pain: The pain typically starts as a mild discomfort around the navel or in the lower right abdomen. It may then move to the right lower quadrant and become more severe over time. The pain is often described as sharp, crampy, or constant.\\n2. Loss of appetite: People with'"
      ]
     },
     "execution_count": 12,
     "metadata": {},
     "output_type": "execute_result"
    }
   ],
   "source": [
    "# User query2\n",
    "query2 = \"What are the common symptoms for appendicitis, and can it be cured via medicine? If not, what surgical procedure should be followed to treat it?\"\n",
    "response(query2)"
   ]
  },
  {
   "cell_type": "markdown",
   "metadata": {
    "id": "oflaoOGiFjVd"
   },
   "source": [
    "### Query 3: What are the effective treatments or solutions for addressing sudden patchy hair loss, commonly seen as localized bald spots on the scalp, and what could be the possible causes behind it?"
   ]
  },
  {
   "cell_type": "code",
   "execution_count": 13,
   "metadata": {
    "colab": {
     "base_uri": "https://localhost:8080/",
     "height": 87
    },
    "executionInfo": {
     "elapsed": 5335,
     "status": "ok",
     "timestamp": 1752630905470,
     "user": {
      "displayName": "Arinjoy Paul",
      "userId": "07385845506721109358"
     },
     "user_tz": 300
    },
    "id": "N-mx9yboQIt-",
    "outputId": "bdfd4271-79b6-43cc-c54f-91c81c2483c4"
   },
   "outputs": [
    {
     "name": "stderr",
     "output_type": "stream",
     "text": [
      "Llama.generate: prefix-match hit\n"
     ]
    },
    {
     "data": {
      "application/vnd.google.colaboratory.intrinsic+json": {
       "type": "string"
      },
      "text/plain": [
       "\"\\n\\nSudden patchy hair loss, also known as alopecia areata, is a common autoimmune disorder that affects the hair follicles. It can result in round or oval bald patches on the scalp, but it can also occur on other parts of the body such as the beard area, eyebrows, or eyelashes.\\n\\nThe exact cause of alopecia areata is not known, but it's believed to be related to a problem with the immune system. Some possible triggers for this condition include stress, genetics, viral infections, and certain medications.\""
      ]
     },
     "execution_count": 13,
     "metadata": {},
     "output_type": "execute_result"
    }
   ],
   "source": [
    "# User query3\n",
    "query3 = \"What are the effective treatments or solutions for addressing sudden patchy hair loss, commonly seen as localized bald spots on the scalp, and what could be the possible causes behind it?\"\n",
    "response(query3)"
   ]
  },
  {
   "cell_type": "markdown",
   "metadata": {
    "id": "WUUqY4FbFjVe"
   },
   "source": [
    "### Query 4:  What treatments are recommended for a person who has sustained a physical injury to brain tissue, resulting in temporary or permanent impairment of brain function?"
   ]
  },
  {
   "cell_type": "code",
   "execution_count": 14,
   "metadata": {
    "colab": {
     "base_uri": "https://localhost:8080/",
     "height": 105
    },
    "executionInfo": {
     "elapsed": 5361,
     "status": "ok",
     "timestamp": 1752630937661,
     "user": {
      "displayName": "Arinjoy Paul",
      "userId": "07385845506721109358"
     },
     "user_tz": 300
    },
    "id": "TEsVMaKaQJzh",
    "outputId": "1291e4f2-8fc5-4b17-e23c-8b83f5c905cf"
   },
   "outputs": [
    {
     "name": "stderr",
     "output_type": "stream",
     "text": [
      "Llama.generate: prefix-match hit\n"
     ]
    },
    {
     "data": {
      "application/vnd.google.colaboratory.intrinsic+json": {
       "type": "string"
      },
      "text/plain": [
       "\"\\n\\nA person who has sustained a physical injury to brain tissue, also known as a traumatic brain injury (TBI), may require various treatments depending on the severity and location of the injury. Here are some common treatments recommended for TBIs:\\n\\n1. Emergency care: The first priority is to ensure the person's airway is clear, they are breathing, and their heart is beating normally. In severe cases, emergency surgery may be required to remove hematomas or other obstructions.\\n2. Medications: Depending on the symptoms, medications may be prescribed to manage conditions such as\""
      ]
     },
     "execution_count": 14,
     "metadata": {},
     "output_type": "execute_result"
    }
   ],
   "source": [
    "# User query4\n",
    "query4 = \"What treatments are recommended for a person who has sustained a physical injury to brain tissue, resulting in temporary or permanent impairment of brain function?\"\n",
    "response(query4)"
   ]
  },
  {
   "cell_type": "markdown",
   "metadata": {
    "id": "5laPFTHrFjVf"
   },
   "source": [
    "### Query 5: What are the necessary precautions and treatment steps for a person who has fractured their leg during a hiking trip, and what should be considered for their care and recovery?"
   ]
  },
  {
   "cell_type": "code",
   "execution_count": 24,
   "metadata": {
    "colab": {
     "base_uri": "https://localhost:8080/",
     "height": 105
    },
    "executionInfo": {
     "elapsed": 5189,
     "status": "ok",
     "timestamp": 1752632315824,
     "user": {
      "displayName": "Arinjoy Paul",
      "userId": "07385845506721109358"
     },
     "user_tz": 300
    },
    "id": "VfrlmrP5QKJz",
    "outputId": "83324524-90d7-4c97-94e6-971d757e8075"
   },
   "outputs": [
    {
     "name": "stderr",
     "output_type": "stream",
     "text": [
      "Llama.generate: prefix-match hit\n"
     ]
    },
    {
     "data": {
      "application/vnd.google.colaboratory.intrinsic+json": {
       "type": "string"
      },
      "text/plain": [
       "\"\\n\\nFirst and foremost, if you suspect that someone has fractured their leg while hiking, it's essential to ensure their safety and prevent further injury. Here are some necessary precautions:\\n\\n1. Keep the person calm and still: Encourage them to remain as still as possible to minimize pain and prevent worsening the injury.\\n2. Assess the situation: Check for any signs of shock, such as pale skin, rapid heartbeat, or shallow breathing. If you notice these symptoms, seek medical help immediately.\\n3. Immobilize the leg: Use a splint, sl\""
      ]
     },
     "execution_count": 24,
     "metadata": {},
     "output_type": "execute_result"
    }
   ],
   "source": [
    "# User query5\n",
    "query5 = \"What are the necessary precautions and treatment steps for a person who has fractured their leg during a hiking trip, and what should be considered for their care and recovery?\"\n",
    "response(query5)"
   ]
  },
  {
   "cell_type": "markdown",
   "metadata": {
    "id": "g5myZ5dOOefc"
   },
   "source": [
    "## Question Answering using LLM with Prompt Engineering"
   ]
  },
  {
   "cell_type": "code",
   "execution_count": 12,
   "metadata": {
    "executionInfo": {
     "elapsed": 4,
     "status": "ok",
     "timestamp": 1752639511607,
     "user": {
      "displayName": "Arinjoy Paul",
      "userId": "07385845506721109358"
     },
     "user_tz": 300
    },
    "id": "c8wRm3gc9pRt"
   },
   "outputs": [],
   "source": [
    "# System Prompt\n",
    "system_prompt = \"\"\"\n",
    "You are a responsible AI Medical Assistant. Give clear, general medical info using trusted sources. Never diagnose or prescribe.\n",
    "Always suggest seeing a doctor for personal issues. If symptoms sound serious, tell the user to get emergency help. Use simple language, respect privacy,\n",
    " admit when you don’t know.\n",
    "\"\"\""
   ]
  },
  {
   "cell_type": "code",
   "execution_count": 13,
   "metadata": {
    "executionInfo": {
     "elapsed": 41,
     "status": "ok",
     "timestamp": 1752639516115,
     "user": {
      "displayName": "Arinjoy Paul",
      "userId": "07385845506721109358"
     },
     "user_tz": 300
    },
    "id": "M-1P-q3x_48i"
   },
   "outputs": [],
   "source": [
    "# Function to aggregate system prompt and user query to generate LLM response\n",
    "def generate_response(query):\n",
    "  global system_prompt\n",
    "  prompt = f\"\"\"{system_prompt}\\n\n",
    "               {query}\n",
    "                \"\"\"\n",
    "  get_response = response(prompt)\n",
    "  return get_response"
   ]
  },
  {
   "cell_type": "markdown",
   "metadata": {
    "id": "9Jg3r_LWOeff"
   },
   "source": [
    "### Query 1: What is the protocol for managing sepsis in a critical care unit?"
   ]
  },
  {
   "cell_type": "code",
   "execution_count": 14,
   "metadata": {
    "colab": {
     "base_uri": "https://localhost:8080/",
     "height": 105
    },
    "executionInfo": {
     "elapsed": 5572,
     "status": "ok",
     "timestamp": 1752639526977,
     "user": {
      "displayName": "Arinjoy Paul",
      "userId": "07385845506721109358"
     },
     "user_tz": 300
    },
    "id": "YqM4VMw5ROhX",
    "outputId": "8725a165-f7ba-4291-cead-93b1c847d74d"
   },
   "outputs": [
    {
     "name": "stderr",
     "output_type": "stream",
     "text": [
      "Llama.generate: prefix-match hit\n"
     ]
    },
    {
     "data": {
      "application/vnd.google.colaboratory.intrinsic+json": {
       "type": "string"
      },
      "text/plain": [
       "\"\\nSepsis is a life-threatening condition caused by the body's response to an infection. In a critical care unit, managing sepsis involves several steps to support the patient's vital functions and address the underlying infection. Here are some general guidelines based on trusted sources like the National Institutes of Health (NIH) and the Centers for Disease Control and Prevention (CDC):\\n\\n1. Early recognition and diagnosis: Monitor patients closely for signs and symptoms of sepsis, such as fever, rapid heart rate, rapid breathing, confusion, or low blood pressure. Quick identification is crucial\""
      ]
     },
     "execution_count": 14,
     "metadata": {},
     "output_type": "execute_result"
    }
   ],
   "source": [
    "# User query1\n",
    "query1 = \"What is the protocol for managing sepsis in a critical care unit?\"\n",
    "generate_response(query1)"
   ]
  },
  {
   "cell_type": "markdown",
   "metadata": {
    "id": "iYpyw4HjOeff"
   },
   "source": [
    "### Query 2: What are the common symptoms for appendicitis, and can it be cured via medicine? If not, what surgical procedure should be followed to treat it?"
   ]
  },
  {
   "cell_type": "code",
   "execution_count": 15,
   "metadata": {
    "colab": {
     "base_uri": "https://localhost:8080/",
     "height": 87
    },
    "executionInfo": {
     "elapsed": 5295,
     "status": "ok",
     "timestamp": 1752639537938,
     "user": {
      "displayName": "Arinjoy Paul",
      "userId": "07385845506721109358"
     },
     "user_tz": 300
    },
    "id": "GXl09pFfRPBr",
    "outputId": "97950ff9-4b36-40ec-b23e-e1a7852f8046"
   },
   "outputs": [
    {
     "name": "stderr",
     "output_type": "stream",
     "text": [
      "Llama.generate: prefix-match hit\n"
     ]
    },
    {
     "data": {
      "application/vnd.google.colaboratory.intrinsic+json": {
       "type": "string"
      },
      "text/plain": [
       "'\\nAppendicitis is a medical condition characterized by inflammation of the appendix, a small pouch located in the lower right side of the abdomen. Common symptoms include:\\n\\n1. Sudden pain that starts around the navel and then shifts to the lower right abdomen.\\n2. Loss of appetite.\\n3. Nausea and vomiting.\\n4. Fever, which may be low-grade at first but can rise as high as 103°F (39.4°C).\\n5. Abdominal swelling and rigidity.\\n6.'"
      ]
     },
     "execution_count": 15,
     "metadata": {},
     "output_type": "execute_result"
    }
   ],
   "source": [
    "# User query2\n",
    "query2 = \"What are the common symptoms for appendicitis, and can it be cured via medicine? If not, what surgical procedure should be followed to treat it?\"\n",
    "generate_response(query2)"
   ]
  },
  {
   "cell_type": "markdown",
   "metadata": {
    "id": "dRp92JQZOeff"
   },
   "source": [
    "### Query 3: What are the effective treatments or solutions for addressing sudden patchy hair loss, commonly seen as localized bald spots on the scalp, and what could be the possible causes behind it?"
   ]
  },
  {
   "cell_type": "code",
   "execution_count": 16,
   "metadata": {
    "colab": {
     "base_uri": "https://localhost:8080/",
     "height": 105
    },
    "executionInfo": {
     "elapsed": 5291,
     "status": "ok",
     "timestamp": 1752639545398,
     "user": {
      "displayName": "Arinjoy Paul",
      "userId": "07385845506721109358"
     },
     "user_tz": 300
    },
    "id": "JOgATEpMRPve",
    "outputId": "772b7c63-3f4d-4ef1-f0ca-b58f2cce0933"
   },
   "outputs": [
    {
     "name": "stderr",
     "output_type": "stream",
     "text": [
      "Llama.generate: prefix-match hit\n"
     ]
    },
    {
     "data": {
      "application/vnd.google.colaboratory.intrinsic+json": {
       "type": "string"
      },
      "text/plain": [
       "\"\\nI'm an AI Medical Assistant, and I can provide some general information about sudden patchy hair loss based on trusted medical sources. However, please keep in mind that I'm not able to diagnose or prescribe treatments. It's essential to consult a healthcare professional for personal concerns regarding your health.\\n\\nSudden patchy hair loss, also known as alopecia areata, is an autoimmune condition where the immune system attacks hair follicles, causing hair loss in small patches on the scalp or other parts of the body. The exact cause of alopecia areata is\""
      ]
     },
     "execution_count": 16,
     "metadata": {},
     "output_type": "execute_result"
    }
   ],
   "source": [
    "# User query3\n",
    "query3 = \"What are the effective treatments or solutions for addressing sudden patchy hair loss, commonly seen as localized bald spots on the scalp, and what could be the possible causes behind it?\"\n",
    "generate_response(query3)"
   ]
  },
  {
   "cell_type": "markdown",
   "metadata": {
    "id": "AA45zwyUOefg"
   },
   "source": [
    "### Query 4:  What treatments are recommended for a person who has sustained a physical injury to brain tissue, resulting in temporary or permanent impairment of brain function?"
   ]
  },
  {
   "cell_type": "code",
   "execution_count": 17,
   "metadata": {
    "colab": {
     "base_uri": "https://localhost:8080/",
     "height": 105
    },
    "executionInfo": {
     "elapsed": 5281,
     "status": "ok",
     "timestamp": 1752639553752,
     "user": {
      "displayName": "Arinjoy Paul",
      "userId": "07385845506721109358"
     },
     "user_tz": 300
    },
    "id": "VA7G8FOnRQZY",
    "outputId": "81481c18-e4f5-480e-a8c5-11ba6dcb6179"
   },
   "outputs": [
    {
     "name": "stderr",
     "output_type": "stream",
     "text": [
      "Llama.generate: prefix-match hit\n"
     ]
    },
    {
     "data": {
      "application/vnd.google.colaboratory.intrinsic+json": {
       "type": "string"
      },
      "text/plain": [
       "\"\\nI'm an AI Medical Assistant and I cannot diagnose or prescribe, but I can provide some general information about the treatment options for someone with a brain injury based on trusted medical sources. Brain injuries can range from mild to severe, and treatment depends on the specific type and extent of the injury. Here are some common treatments:\\n\\n1. Rest and Rehabilitation: The most important thing after a brain injury is rest. This means avoiding physical or mental activities that could worsen the injury. Rehabilitation, which may include occupational therapy, speech therapy, and physical therapy, can help improve function and\""
      ]
     },
     "execution_count": 17,
     "metadata": {},
     "output_type": "execute_result"
    }
   ],
   "source": [
    "# User query4\n",
    "query4 = \"What treatments are recommended for a person who has sustained a physical injury to brain tissue, resulting in temporary or permanent impairment of brain function?\"\n",
    "generate_response(query4)"
   ]
  },
  {
   "cell_type": "markdown",
   "metadata": {
    "id": "TYXxiSuBOefg"
   },
   "source": [
    "### Query 5: What are the necessary precautions and treatment steps for a person who has fractured their leg during a hiking trip, and what should be considered for their care and recovery?"
   ]
  },
  {
   "cell_type": "code",
   "execution_count": 18,
   "metadata": {
    "colab": {
     "base_uri": "https://localhost:8080/",
     "height": 105
    },
    "executionInfo": {
     "elapsed": 5243,
     "status": "ok",
     "timestamp": 1752639561161,
     "user": {
      "displayName": "Arinjoy Paul",
      "userId": "07385845506721109358"
     },
     "user_tz": 300
    },
    "id": "mE2GMQk8RQ_p",
    "outputId": "0ed8cc32-4f7e-4964-9765-e5da4b3aced1"
   },
   "outputs": [
    {
     "name": "stderr",
     "output_type": "stream",
     "text": [
      "Llama.generate: prefix-match hit\n"
     ]
    },
    {
     "data": {
      "application/vnd.google.colaboratory.intrinsic+json": {
       "type": "string"
      },
      "text/plain": [
       "\"\\nI'm an AI Medical Assistant, and I cannot diagnose or prescribe, but I can provide you with general information based on trusted sources about the necessary precautions and treatment steps for someone who has fractured their leg during a hiking trip. \\n\\nFirstly, if you suspect that you or someone else has fractured a leg while hiking, it's essential to seek medical attention as soon as possible. In the meantime, here are some general steps you can take:\\n\\n1. Keep the injured leg stable and immobile by using a splint, sling, or other supportive device.\""
      ]
     },
     "execution_count": 18,
     "metadata": {},
     "output_type": "execute_result"
    }
   ],
   "source": [
    "# User query5\n",
    "query5 = \"What are the necessary precautions and treatment steps for a person who has fractured their leg during a hiking trip, and what should be considered for their care and recovery?\"\n",
    "generate_response(query5)"
   ]
  },
  {
   "cell_type": "markdown",
   "metadata": {
    "id": "t_O1PGdNO2M9"
   },
   "source": [
    "## Data Preparation for RAG"
   ]
  },
  {
   "cell_type": "markdown",
   "metadata": {
    "id": "uTpWESc53dL9"
   },
   "source": [
    "### Loading the Data"
   ]
  },
  {
   "cell_type": "code",
   "execution_count": null,
   "metadata": {
    "colab": {
     "base_uri": "https://localhost:8080/"
    },
    "executionInfo": {
     "elapsed": 632,
     "status": "ok",
     "timestamp": 1752639570878,
     "user": {
      "displayName": "Arinjoy Paul",
      "userId": "07385845506721109358"
     },
     "user_tz": 300
    },
    "id": "ybj2cEnzRSXq",
    "outputId": "231910a5-d210-4dce-a0d9-876c5b7cf252"
   },
   "outputs": [
    {
     "name": "stdout",
     "output_type": "stream",
     "text": [
      "Drive already mounted at /content/drive; to attempt to forcibly remount, call drive.mount(\"/content/drive\", force_remount=True).\n"
     ]
    }
   ],
   "source": [
    "# Import Google Drive library\n",
    "# from google.colab import drive\n",
    "# drive.mount('/content/drive')"
   ]
  },
  {
   "cell_type": "code",
   "execution_count": null,
   "metadata": {
    "executionInfo": {
     "elapsed": 28207,
     "status": "ok",
     "timestamp": 1752639603166,
     "user": {
      "displayName": "Arinjoy Paul",
      "userId": "07385845506721109358"
     },
     "user_tz": 300
    },
    "id": "VArLfukpLmMK"
   },
   "outputs": [],
   "source": [
    "# Path to the Input file\n",
    "pdf_file_path = './data/medical_diagnosis_manual.pdf'\n",
    "\n",
    "# Load the PDF file\n",
    "loader = PyMuPDFLoader(pdf_file_path)\n",
    "manual = loader.load()"
   ]
  },
  {
   "cell_type": "markdown",
   "metadata": {
    "id": "ffj0ca3eZT4u"
   },
   "source": [
    "### Data Overview"
   ]
  },
  {
   "cell_type": "markdown",
   "metadata": {
    "id": "f9weTDzMxRRS"
   },
   "source": [
    "#### Checking the first 5 pages"
   ]
  },
  {
   "cell_type": "code",
   "execution_count": 40,
   "metadata": {
    "colab": {
     "base_uri": "https://localhost:8080/"
    },
    "executionInfo": {
     "elapsed": 90,
     "status": "ok",
     "timestamp": 1752635396057,
     "user": {
      "displayName": "Arinjoy Paul",
      "userId": "07385845506721109358"
     },
     "user_tz": 300
    },
    "id": "MSEiL--bRTZT",
    "outputId": "cd5e2077-d53b-4e0d-cbab-9f632b091e14"
   },
   "outputs": [
    {
     "name": "stdout",
     "output_type": "stream",
     "text": [
      "Page Number : 1\n",
      "arinjoy.paul@hotmail.com\n",
      "C4VK1R6FOB\n",
      "ant for personal use by arinjoy.paul@hot\n",
      "shing the contents in part or full is liable \n",
      "\n",
      "Page Number : 2\n",
      "arinjoy.paul@hotmail.com\n",
      "C4VK1R6FOB\n",
      "This file is meant for personal use by arinjoy.paul@hotmail.com only.\n",
      "Sharing or publishing the contents in part or full is liable for legal action.\n",
      "\n",
      "Page Number : 3\n",
      "Table of Contents\n",
      "1\n",
      "Front    ................................................................................................................................................................................................................\n",
      "1\n",
      "Cover    .......................................................................................................................................................................................................\n",
      "2\n",
      "Front Matter    ...........................................................................................................................................................................................\n",
      "53\n",
      "1 - Nutritional Disorders    ...............................................................................................................................................................\n",
      "53\n",
      "Chapter 1. Nutrition: General Considerations    .....................................................................................................................\n",
      "59\n",
      "Chapter 2. Undernutrition    .............................................................................................................................................................\n",
      "69\n",
      "Chapter 3. Nutritional Support    ...................................................................................................................................................\n",
      "76\n",
      "Chapter 4. Vitamin Deficiency, Dependency & Toxicity    ..................................................................................................\n",
      "99\n",
      "Chapter 5. Mineral Deficiency & Toxicity    ..............................................................................................................................\n",
      "108\n",
      "Chapter 6. Obesity & the Metabolic Syndrome    ...............................................................................................................\n",
      "120\n",
      "2 - Gastrointestinal Disorders    ..............................................................................................................................................\n",
      "120\n",
      "Chapter 7. Approach to the Patient With Upper GI Complaints    ...............................................................................\n",
      "132\n",
      "Chapter 8. Approach to the Patient With Lower GI Complaints    ...............................................................................\n",
      "143\n",
      "Chapter 9. Diagnostic & Therapeutic GI Procedures    ....................................................................................................\n",
      "150\n",
      "Chapter 10. GI Bleeding    ............................................................................................................................................................\n",
      "158\n",
      "Chapter 11. Acute Abdomen & Surgical Gastroenterology    .........................................................................................\n",
      "172\n",
      "Chapter 12. Esophageal & Swallowing Disorders    ..........................................................................................................\n",
      "183\n",
      "Chapter 13. Gastritis & Peptic Ulcer Disease    ..................................................................................................................\n",
      "196\n",
      "Chapter 14. Bezoars & Foreign Bodies    ..............................................................................................................................\n",
      "199\n",
      "Chapter 15. Pancreatitis    ............................................................................................................................................................\n",
      "206\n",
      "Chapter 16. Gastroenteritis    ......................................................................................................................................................\n",
      "213\n",
      "Chapter 17. Malabsorption Syndromes    ..............................................................................................................................\n",
      "225\n",
      "Chapter 18. Irritable Bowel Syndrome    ................................................................................................................................\n",
      "229\n",
      "Chapter 19. Inflammatory Bowel Disease    .........................................................................................................................\n",
      "241\n",
      "Chapter 20. Diverticular Disease    ...........................................................................................................................................\n",
      "246\n",
      "Chapter 21. Anorectal Disorders    ............................................................................................................................................\n",
      "254\n",
      "Chapter 22. Tumors of the GI Tract    ......................................................................................................................................\n",
      "275\n",
      "3 - Hepatic & Biliary Disorders    ............................................................................................................................................\n",
      "275\n",
      "Chapter 23. Approach to the Patient With Liver Disease    ...........................................................................................\n",
      "294\n",
      "Chapter 24. Testing for Hepatic & Biliary Disorders    ......................................................................................................\n",
      "305\n",
      "Chapter 25. Drugs & the Liver    ................................................................................................................................................\n",
      "308\n",
      "Chapter 26. Alcoholic Liver Disease    ....................................................................................................................................\n",
      "314\n",
      "Chapter 27. Fibrosis & Cirrhosis    ............................................................................................................................................\n",
      "322\n",
      "Chapter 28. Hepatitis    ..................................................................................................................................................................\n",
      "333\n",
      "Chapter 29. Vascular Disorders of the Liver    .....................................................................................................................\n",
      "341\n",
      "Chapter 30. Liver Masses & Granulomas    ..........................................................................................................................\n",
      "348\n",
      "Chapter 31. Gallbladder & Bile Duct Disorders    ...............................................................................................................\n",
      "362\n",
      "4 - Musculoskeletal & Connective Tissue Disorders    .........................................................................................\n",
      "362\n",
      "Chapter 32. Approach to the Patient With Joint Disease    ............................................................................................\n",
      "373\n",
      "Chapter 33. Autoimmune Rheumatic Disorders    ..............................................................................................................\n",
      "391\n",
      "Chapter 34. Vasculitis    .................................................................................................................................................................\n",
      "416\n",
      "Chapter 35. Joint Disorders    .....................................................................................................................................................\n",
      "435\n",
      "Chapter 36. Crystal-Induced Arthritides    ..............................................................................................................................\n",
      "443\n",
      "Chapter 37. Osteoporosis    .........................................................................................................................................................\n",
      "448\n",
      "Chapter 38. Paget's Disease of Bone    ..................................................................................................................................\n",
      "451\n",
      "Chapter 39. Osteonecrosis    .......................................................................................................................................................\n",
      "455\n",
      "Chapter 40. Infections of Joints & Bones    ...........................................................................................................................\n",
      "463\n",
      "Chapter 41. Bursa, Muscle & Tendon Disorders    .............................................................................................................\n",
      "470\n",
      "Chapter 42. Neck & Back Pain    ...............................................................................................................................................\n",
      "481\n",
      "Chapter 43. Hand Disorders    ....................................................................................................................................................\n",
      "arinjoy.paul@hotmail.com\n",
      "C4VK1R6FOB\n",
      "This file is meant for personal use by arinjoy.paul@hotmail.com only.\n",
      "Sharing or publishing the contents in part or full is liable for legal action.\n",
      "\n",
      "Page Number : 4\n",
      "491\n",
      "Chapter 44. Foot & Ankle Disorders    .....................................................................................................................................\n",
      "502\n",
      "Chapter 45. Tumors of Bones & Joints    ...............................................................................................................................\n",
      "510\n",
      "5 - Ear, Nose, Throat & Dental Disorders    ..................................................................................................................\n",
      "510\n",
      "Chapter 46. Approach to the Patient With Ear Problems    ...........................................................................................\n",
      "523\n",
      "Chapter 47. Hearing Loss    .........................................................................................................................................................\n",
      "535\n",
      "Chapter 48. Inner Ear Disorders    ............................................................................................................................................\n",
      "542\n",
      "Chapter 49. Middle Ear & Tympanic Membrane Disorders    ........................................................................................\n",
      "550\n",
      "Chapter 50. External Ear Disorders    .....................................................................................................................................\n",
      "554\n",
      "Chapter 51. Approach to the Patient With Nasal & Pharyngeal Symptoms    .......................................................\n",
      "567\n",
      "Chapter 52. Oral & Pharyngeal Disorders    .........................................................................................................................\n",
      "578\n",
      "Chapter 53. Nose & Paranasal Sinus Disorders    .............................................................................................................\n",
      "584\n",
      "Chapter 54. Laryngeal Disorders    ...........................................................................................................................................\n",
      "590\n",
      "Chapter 55. Tumors of the Head & Neck    ...........................................................................................................................\n",
      "600\n",
      "Chapter 56. Approach to Dental & Oral Symptoms    .......................................................................................................\n",
      "619\n",
      "Chapter 57. Common Dental Disorders    .............................................................................................................................\n",
      "629\n",
      "Chapter 58. Dental Emergencies    ..........................................................................................................................................\n",
      "635\n",
      "Chapter 59. Temporomandibular Disorders    ......................................................................................................................\n",
      "641\n",
      "6 - Eye Disorders    ............................................................................................................................................................................\n",
      "641\n",
      "Chapter 60. Approach to the Ophthalmologic Patient    ..................................................................................................\n",
      "669\n",
      "Chapter 61. Refractive Error    ...................................................................................................................................................\n",
      "674\n",
      "Chapter 62. Eyelid & Lacrimal Disorders    ...........................................................................................................................\n",
      "680\n",
      "Chapter 63. Conjunctival & Scleral Disorders    .................................................................................................................\n",
      "690\n",
      "Chapter 64. Corneal Disorders    ...............................................................................................................................................\n",
      "703\n",
      "Chapter 65. Glaucoma    ...............................................................................................................................................................\n",
      "710\n",
      "Chapter 66. Cataract    ...................................................................................................................................................................\n",
      "713\n",
      "Chapter 67. Uveitis    ......................................................................................................................................................................\n",
      "719\n",
      "Chapter 68. Retinal Disorders    .................................................................................................................................................\n",
      "731\n",
      "Chapter 69. Optic Nerve Disorders    ......................................................................................................................................\n",
      "737\n",
      "Chapter 70. Orbital Diseases    ..................................................................................................................................................\n",
      "742\n",
      "7 - Dermatologic Disorders    ....................................................................................................................................................\n",
      "742\n",
      "Chapter 71. Approach to the Dermatologic Patient    .......................................................................................................\n",
      "755\n",
      "Chapter 72. Principles of Topical Dermatologic Therapy    ............................................................................................\n",
      "760\n",
      "Chapter 73. Acne & Related Disorders    ...............................................................................................................................\n",
      "766\n",
      "Chapter 74. Bullous Diseases    .................................................................................................................................................\n",
      "771\n",
      "Chapter 75. Cornification Disorders    .....................................................................................................................................\n",
      "775\n",
      "Chapter 76. Dermatitis    ...............................................................................................................................................................\n",
      "786\n",
      "Chapter 77. Reactions to Sunlight    ........................................................................................................................................\n",
      "791\n",
      "Chapter 78. Psoriasis & Scaling Diseases    ........................................................................................................................\n",
      "799\n",
      "Chapter 79. Hypersensitivity & Inflammatory Disorders    .............................................................................................\n",
      "808\n",
      "Chapter 80. Sweating Disorders    ............................................................................................................................................\n",
      "811\n",
      "Chapter 81. Bacterial Skin Infections    ...................................................................................................................................\n",
      "822\n",
      "Chapter 82. Fungal Skin Infections    ......................................................................................................................................\n",
      "831\n",
      "Chapter 83. Parasitic Skin Infections    ...................................................................................................................................\n",
      "836\n",
      "Chapter 84. Viral Skin Diseases    ............................................................................................................................................\n",
      "841\n",
      "Chapter 85. Pigmentation Disorders    ....................................................................................................................................\n",
      "846\n",
      "Chapter 86. Hair Disorders    .......................................................................................................................................................\n",
      "855\n",
      "Chapter 87. Nail Disorders    .......................................................................................................................................................\n",
      "861\n",
      "Chapter 88. Pressure Ulcers    ...................................................................................................................................................\n",
      "867\n",
      "Chapter 89. Benign Tumors    .....................................................................................................................................................\n",
      "874\n",
      "Chapter 90. Cancers of the Skin    ............................................................................................................................................\n",
      "882\n",
      "8 - Endocrine & Metabolic Disorders    .............................................................................................................................\n",
      "882\n",
      "Chapter 91. Principles of Endocrinology    ............................................................................................................................\n",
      "887\n",
      "Chapter 92. Pituitary Disorders    ..............................................................................................................................................\n",
      "901\n",
      "Chapter 93. Thyroid Disorders    ................................................................................................................................................\n",
      "arinjoy.paul@hotmail.com\n",
      "C4VK1R6FOB\n",
      "This file is meant for personal use by arinjoy.paul@hotmail.com only.\n",
      "Sharing or publishing the contents in part or full is liable for legal action.\n",
      "\n",
      "Page Number : 5\n",
      "921\n",
      "Chapter 94. Adrenal Disorders    ................................................................................................................................................\n",
      "936\n",
      "Chapter 95. Polyglandular Deficiency Syndromes    ........................................................................................................\n",
      "939\n",
      "Chapter 96. Porphyrias    ..............................................................................................................................................................\n",
      "949\n",
      "Chapter 97. Fluid & Electrolyte Metabolism    .....................................................................................................................\n",
      "987\n",
      "Chapter 98. Acid-Base Regulation & Disorders    ..............................................................................................................\n",
      "1001\n",
      "Chapter 99. Diabetes Mellitus & Disorders of Carbohydrate Metabolism    ........................................................\n",
      "1024\n",
      "Chapter 100. Lipid Disorders    ................................................................................................................................................\n",
      "1034\n",
      "Chapter 101. Amyloidosis    ......................................................................................................................................................\n",
      "1037\n",
      "Chapter 102. Carcinoid Tumors    ..........................................................................................................................................\n",
      "1040\n",
      "Chapter 103. Multiple Endocrine Neoplasia Syndromes    .........................................................................................\n",
      "1046\n",
      "9 - Hematology & Oncology    ...............................................................................................................................................\n",
      "1046\n",
      "Chapter 104. Approach to the Patient With Anemia    ..................................................................................................\n",
      "1050\n",
      "Chapter 105. Anemias Caused by Deficient Erythropoiesis    ...................................................................................\n",
      "1061\n",
      "Chapter 106. Anemias Caused by Hemolysis    ...............................................................................................................\n",
      "1078\n",
      "Chapter 107. Neutropenia & Lymphocytopenia    ...........................................................................................................\n",
      "1086\n",
      "Chapter 108. Thrombocytopenia & Platelet Dysfunction    .........................................................................................\n",
      "1097\n",
      "Chapter 109. Hemostasis    ......................................................................................................................................................\n",
      "1104\n",
      "Chapter 110. Thrombotic Disorders    ...................................................................................................................................\n",
      "1107\n",
      "Chapter 111. Coagulation Disorders    ..................................................................................................................................\n",
      "1113\n",
      "Chapter 112. Bleeding Due to Abnormal Blood Vessels    ...........................................................................................\n",
      "1116\n",
      "Chapter 113. Spleen Disorders    ............................................................................................................................................\n",
      "1120\n",
      "Chapter 114. Eosinophilic Disorders    .................................................................................................................................\n",
      "1126\n",
      "Chapter 115. Histiocytic Syndromes    .................................................................................................................................\n",
      "1131\n",
      "Chapter 116. Myeloproliferative Disorders    .....................................................................................................................\n",
      "1141\n",
      "Chapter 117. Leukemias    .........................................................................................................................................................\n",
      "1154\n",
      "Chapter 118. Lymphomas    ......................................................................................................................................................\n",
      "1164\n",
      "Chapter 119. Plasma Cell Disorders    .................................................................................................................................\n",
      "1172\n",
      "Chapter 120. Iron Overload    ...................................................................................................................................................\n",
      "1177\n",
      "Chapter 121. Transfusion Medicine    ...................................................................................................................................\n",
      "1186\n",
      "Chapter 122. Overview of Cancer    ......................................................................................................................................\n",
      "1198\n",
      "Chapter 123. Tumor Immunology    .......................................................................................................................................\n",
      "1204\n",
      "Chapter 124. Principles of Cancer Therapy    ...................................................................................................................\n",
      "1215\n",
      "10 - Immunology; Allergic Disorders    ...........................................................................................................................\n",
      "1215\n",
      "Chapter 125. Biology of the Immune System    ...............................................................................................................\n",
      "1227\n",
      "Chapter 126. Immunodeficiency Disorders    ....................................................................................................................\n",
      "1243\n",
      "Chapter 127. Allergic & Other Hypersensitivity Disorders    .......................................................................................\n",
      "1263\n",
      "Chapter 128. Transplantation    ...............................................................................................................................................\n",
      "1281\n",
      "11 - Infectious Diseases    ........................................................................................................................................................\n",
      "1281\n",
      "Chapter 129. Biology of Infectious Disease    ...................................................................................................................\n",
      "1300\n",
      "Chapter 130. Laboratory Diagnosis of Infectious Disease    ......................................................................................\n",
      "1306\n",
      "Chapter 131. Immunization    ...................................................................................................................................................\n",
      "1313\n",
      "Chapter 132. Bacteria & Antibacterial Drugs    .................................................................................................................\n",
      "1353\n",
      "Chapter 133. Gram-Positive Cocci    ....................................................................................................................................\n",
      "1366\n",
      "Chapter 134. Gram-Positive Bacilli    ...................................................................................................................................\n",
      "1376\n",
      "Chapter 135. Gram-Negative Bacilli    .................................................................................................................................\n",
      "1405\n",
      "Chapter 136. Spirochetes    ......................................................................................................................................................\n",
      "1413\n",
      "Chapter 137. Neisseriaceae    .................................................................................................................................................\n",
      "1419\n",
      "Chapter 138. Chlamydia & Mycoplasmas    ......................................................................................................................\n",
      "1421\n",
      "Chapter 139. Rickettsiae & Related Organisms    ..........................................................................................................\n",
      "1431\n",
      "Chapter 140. Anaerobic Bacteria    ........................................................................................................................................\n",
      "1450\n",
      "Chapter 141. Mycobacteria    ...................................................................................................................................................\n",
      "1470\n",
      "Chapter 142. Fungi    ...................................................................................................................................................................\n",
      "1493\n",
      "Chapter 143. Approach to Parasitic Infections    .............................................................................................................\n",
      "1496\n",
      "Chapter 144. Nematodes (Roundworms)    .......................................................................................................................\n",
      "arinjoy.paul@hotmail.com\n",
      "C4VK1R6FOB\n",
      "This file is meant for personal use by arinjoy.paul@hotmail.com only.\n",
      "Sharing or publishing the contents in part or full is liable for legal action.\n",
      "\n"
     ]
    }
   ],
   "source": [
    "# Checking the first 5 pages\n",
    "for i, page in enumerate(manual[:5]):\n",
    "    print(f\"Page Number : {i+1}\",end=\"\\n\")\n",
    "    print(page.page_content, end=\"\\n\")"
   ]
  },
  {
   "cell_type": "markdown",
   "metadata": {
    "id": "7-wNNalNxPKT"
   },
   "source": [
    "#### Checking the number of pages"
   ]
  },
  {
   "cell_type": "code",
   "execution_count": 21,
   "metadata": {
    "colab": {
     "base_uri": "https://localhost:8080/"
    },
    "executionInfo": {
     "elapsed": 26,
     "status": "ok",
     "timestamp": 1752639627761,
     "user": {
      "displayName": "Arinjoy Paul",
      "userId": "07385845506721109358"
     },
     "user_tz": 300
    },
    "id": "-NuC-6SNRT7K",
    "outputId": "91a9e992-eaaf-46e5-bcdb-3377cf0c50ba"
   },
   "outputs": [
    {
     "name": "stdout",
     "output_type": "stream",
     "text": [
      "Number of pages : 4114\n"
     ]
    }
   ],
   "source": [
    "# Print number of pages\n",
    "print(f\"Number of pages : {len(manual)}\")"
   ]
  },
  {
   "cell_type": "markdown",
   "metadata": {
    "id": "LECMxTH-zB-R"
   },
   "source": [
    "### Data Chunking"
   ]
  },
  {
   "cell_type": "code",
   "execution_count": 22,
   "metadata": {
    "executionInfo": {
     "elapsed": 416,
     "status": "ok",
     "timestamp": 1752639632324,
     "user": {
      "displayName": "Arinjoy Paul",
      "userId": "07385845506721109358"
     },
     "user_tz": 300
    },
    "id": "ir9Zi8rKRUmG"
   },
   "outputs": [],
   "source": [
    "# Initializing RecursiveCharacterTextSplitter\n",
    "texts = RecursiveCharacterTextSplitter.from_tiktoken_encoder(\n",
    "    encoding_name='cl100k_base',\n",
    "    chunk_size=1000,\n",
    "    chunk_overlap= 200\n",
    ")"
   ]
  },
  {
   "cell_type": "code",
   "execution_count": 23,
   "metadata": {
    "executionInfo": {
     "elapsed": 34058,
     "status": "ok",
     "timestamp": 1752639669542,
     "user": {
      "displayName": "Arinjoy Paul",
      "userId": "07385845506721109358"
     },
     "user_tz": 300
    },
    "id": "8b2Ov_oXOQ2P"
   },
   "outputs": [],
   "source": [
    "# Splitting the document into chunks\n",
    "document_chunks = loader.load_and_split(texts)"
   ]
  },
  {
   "cell_type": "code",
   "execution_count": 24,
   "metadata": {
    "colab": {
     "base_uri": "https://localhost:8080/"
    },
    "executionInfo": {
     "elapsed": 7,
     "status": "ok",
     "timestamp": 1752639671803,
     "user": {
      "displayName": "Arinjoy Paul",
      "userId": "07385845506721109358"
     },
     "user_tz": 300
    },
    "id": "cKZuWYTxPSPK",
    "outputId": "dfaf5789-184b-41a4-85fd-b5c0183b3e50"
   },
   "outputs": [
    {
     "name": "stdout",
     "output_type": "stream",
     "text": [
      "Number of chunks : 4692\n"
     ]
    }
   ],
   "source": [
    "print(f\"Number of chunks : {len(document_chunks)}\")"
   ]
  },
  {
   "cell_type": "code",
   "execution_count": 52,
   "metadata": {
    "colab": {
     "base_uri": "https://localhost:8080/"
    },
    "executionInfo": {
     "elapsed": 29,
     "status": "ok",
     "timestamp": 1752636135981,
     "user": {
      "displayName": "Arinjoy Paul",
      "userId": "07385845506721109358"
     },
     "user_tz": 300
    },
    "id": "ZU2QO_W3PaKC",
    "outputId": "6c278772-8973-4d68-aef2-4c69698efcad"
   },
   "outputs": [
    {
     "name": "stdout",
     "output_type": "stream",
     "text": [
      "\n",
      "\n",
      "Chunk Number : 1\n",
      "------------------------------------------------------------\n",
      "In carotenodermia, the skin (but not the sclera) becomes deep yellow, especially on the palms and soles.\n",
      "Diagnosis\n",
      "• Clinical evaluation\n",
      "Diagnosis is clinical. Blood vitamin levels correlate poorly with toxicity. However, if clinical diagnosis is\n",
      "equivocal, laboratory testing may help. In vitamin A toxicity, fasting serum retinol levels may increase from\n",
      "normal (28 to 86 μg/dL [1 to 3 μmol/L]) to > 100 μg/dL (> 3.49 μmol/L), sometimes to > 2000 μg/dL (> 69.8\n",
      "μmol/L). Hypercalcemia is common.\n",
      "The Merck Manual of Diagnosis & Therapy, 19th Edition Chapter 4. Vitamin Deficiency, Dependency & Toxicity\n",
      "84\n",
      "arinjoy.paul@hotmail.com\n",
      "C4VK1R6FOB\n",
      "This file is meant for personal use by arinjoy.paul@hotmail.com only.\n",
      "Sharing or publishing the contents in part or full is liable for legal action.\n",
      "\n",
      "\n",
      "Chunk Number : 2\n",
      "------------------------------------------------------------\n",
      "Differentiating vitamin A toxicity from other disorders may be difficult. Carotenodermia may also occur in\n",
      "severe hypothyroidism and anorexia nervosa, possibly because carotene is converted to vitamin A more\n",
      "slowly.\n",
      "Prognosis\n",
      "Complete recovery usually occurs if vitamin A ingestion stops. Symptoms and signs of chronic toxicity\n",
      "usually disappear within 1 to 4 wk. However, birth defects in the fetus of a mother who has taken\n",
      "megadoses of vitamin A are not reversible.\n",
      "Treatment\n",
      "Vitamin A is stopped.\n",
      "Vitamin B6\n",
      "Vitamin B6 includes a group of closely related compounds: pyridoxine, pyridoxal, and pyridoxamine. They\n",
      "are metabolized in the body to pyridoxal phosphate, which acts as a coenzyme in many important\n",
      "reactions in blood, CNS, and skin metabolism. Vitamin B6 is important in heme and nucleic acid\n",
      "biosynthesis and in lipid, carbohydrate, and amino acid metabolism.\n",
      "Vitamin B6 Deficiency and Dependency\n",
      "Because vitamin B6 is present in most foods, dietary deficiency is rare. Secondary deficiency\n",
      "may result from various conditions. Symptoms can include peripheral neuropathy, a pellagra-\n",
      "like syndrome, anemia, and seizures, which, particularly in infants, may not resolve when\n",
      "treated with anticonvulsants. Impaired metabolism (dependency) is rare; it causes various\n",
      "symptoms, including seizures, intellectual disability, and anemia. Diagnosis is usually clinical;\n",
      "no laboratory test readily assesses vitamin B6 status. Treatment consists of giving oral vitamin\n",
      "B6 and, when possible, treating the cause.\n",
      "Dietary deficiency, though rare, can develop because extensive processing can deplete foods of vitamin\n",
      "B6. Secondary deficiency most often results from protein-energy undernutrition, malabsorption,\n",
      "alcoholism, use of pyridoxine-inactivating drugs (eg, anticonvulsants, isoniazid, cycloserine, hydralazine,\n",
      "corticosteroids, penicillamine), or excessive loss. Rarely, it results from increased metabolic demand (eg,\n",
      "in hyperthyroidism).\n",
      "Rare inborn errors of metabolism can affect pyridoxine metabolism.\n",
      "The role of vitamin B6 deficiency in increasing plasma homocysteine levels and in contributing to vascular\n",
      "disorders is under study.\n",
      "Symptoms and Signs\n",
      "Deficiency causes a pellagra-like syndrome, with seborrheic dermatitis, glossitis, and cheilosis, and, in\n",
      "adults, can cause depression, confusion, EEG abnormalities, and seizures. Rarely, deficiency or\n",
      "dependency causes seizures in infants. Seizures, particularly in infants, may be refractory to treatment\n",
      "with anticonvulsants. Normocytic, microcytic, or sideroblastic anemia can also develop.\n",
      "Diagnosis\n",
      "• Clinical evaluation\n",
      "Vitamin B6 deficiency should be considered in any infant who has seizures, any patient who has seizures\n",
      "refractory to treatment with anticonvulsants, and any patient with deficiencies of other B vitamins,\n",
      "The Merck Manual of Diagnosis & Therapy, 19th Edition Chapter 4. Vitamin Deficiency, Dependency & Toxicity\n",
      "85\n",
      "arinjoy.paul@hotmail.com\n",
      "C4VK1R6FOB\n",
      "This file is meant for personal use by arinjoy.paul@hotmail.com only.\n",
      "Sharing or publishing the contents in part or full is liable for legal action.\n",
      "\n",
      "\n",
      "Chunk Number : 3\n",
      "------------------------------------------------------------\n",
      "particularly in patients with alcoholism or protein-energy undernutrition. Diagnosis is usually clinical.\n",
      "There is no single accepted laboratory test of vitamin B6 status; measurement of serum pyridoxal\n",
      "phosphate is most common.\n",
      "Treatment\n",
      "• Pyridoxine\n",
      "• Elimination of risk factors when possible\n",
      "For secondary deficiency, causes (eg, use of pyridoxine-inactivating drugs, malabsorption) should be\n",
      "corrected if possible. Usually, pyridoxine 50 to 100 mg po once/day corrects the deficiency in adults. Most\n",
      "people taking isoniazid should also be given pyridoxine 30 to 50 mg/day. For deficiency due to increased\n",
      "metabolic demand, amounts larger than the daily recommended intake may be required. For most cases\n",
      "of inborn errors of metabolism, high doses of pyridoxine may be effective.\n",
      "Vitamin B6 Toxicity\n",
      "The ingestion of megadoses (> 500 mg/day) of pyridoxine (eg, taken to treat carpal tunnel syndrome or\n",
      "premenstrual syndrome although efficacy is unproved) may cause peripheral neuropathy with deficits in a\n",
      "stocking-glove distribution, including progressive sensory ataxia and severe impairment of position and\n",
      "vibration senses. Senses of touch, temperature, and pain are less affected. Motor and central nervous\n",
      "systems are usually intact.\n",
      "Diagnosis is clinical. Treatment is to stop taking vitamin B6. Recovery is slow and, for some patients,\n",
      "incomplete.\n",
      "Vitamin B12\n",
      "Cobalamin is a general term for compounds with biologic vitamin B12 activity. These compounds are\n",
      "involved in nucleic acid metabolism, methyl transfer, and myelin synthesis and repair. They are necessary\n",
      "for the formation of normal RBCs.\n",
      "Food-bound vitamin B12 is released in the stomach's acid environment and is bound to R protein\n",
      "(haptocorrin). Pancreatic enzymes cleave this B12 complex (B12-R protein) in the small intestine. After\n",
      "cleavage, intrinsic factor, secreted by parietal cells in the gastric mucosa, binds with vitamin B12. Intrinsic\n",
      "factor is required for absorption of vitamin B12, which takes place in the terminal ileum.\n",
      "Vitamin B12 in plasma is bound to transcobalamins I and II. Transcobalamin II is responsible for delivering\n",
      "vitamin B12 to tissues. The liver stores large amounts of vitamin B12. Enterohepatic reabsorption helps\n",
      "retain vitamin B12. Liver vitamin B12 stores can normally sustain physiologic needs for 3 to 5 yr if B12\n",
      "intake stops (eg, in people who become vegans) and for months to 1 yr if enterohepatic reabsorption\n",
      "capacity is absent.\n",
      "Large amounts of vitamin B12 seem to be nontoxic but are not recommended for regular use (ie, as a\n",
      "general tonic).\n",
      "Vitamin B12 Deficiency\n",
      "Dietary vitamin B12 deficiency usually results from inadequate absorption, but deficiency can\n",
      "develop in vegans who do not take vitamin supplements. Deficiency causes megaloblastic\n",
      "anemia, damage to the white matter of the spinal cord and brain, and peripheral neuropathy.\n",
      "Diagnosis is usually made by measuring serum vitamin B12 levels. The Schilling test helps\n",
      "determine etiology. Treatment consists of oral or parenteral vitamin B12. Folate (folic acid)\n",
      "should not be used instead of vitamin B12 because folate may alleviate the anemia but allow\n",
      "The Merck Manual of Diagnosis & Therapy, 19th Edition Chapter 4. Vitamin Deficiency, Dependency & Toxicity\n",
      "86\n",
      "arinjoy.paul@hotmail.com\n",
      "C4VK1R6FOB\n",
      "This file is meant for personal use by arinjoy.paul@hotmail.com only.\n",
      "Sharing or publishing the contents in part or full is liable for legal action.\n"
     ]
    }
   ],
   "source": [
    "# Print sample chunks\n",
    "for i, chunk in enumerate(document_chunks[100:103]):\n",
    "    print(f\"\\n\\nChunk Number : {i+1}\",end=\"\\n\")\n",
    "    print('-'*60)\n",
    "    print(chunk.page_content, end=\"\\n\")"
   ]
  },
  {
   "cell_type": "markdown",
   "metadata": {
    "id": "BvHVejcWz0Bl"
   },
   "source": [
    "### Embedding"
   ]
  },
  {
   "cell_type": "code",
   "execution_count": 25,
   "metadata": {
    "executionInfo": {
     "elapsed": 20411,
     "status": "ok",
     "timestamp": 1752639701900,
     "user": {
      "displayName": "Arinjoy Paul",
      "userId": "07385845506721109358"
     },
     "user_tz": 300
    },
    "id": "R3CAgoUeRVLa"
   },
   "outputs": [],
   "source": [
    "# Initialize Embedding model\n",
    "embeddings = SentenceTransformerEmbeddings(model_name=\"all-MiniLM-L6-v2\")"
   ]
  },
  {
   "cell_type": "code",
   "execution_count": 26,
   "metadata": {
    "executionInfo": {
     "elapsed": 611,
     "status": "ok",
     "timestamp": 1752639713290,
     "user": {
      "displayName": "Arinjoy Paul",
      "userId": "07385845506721109358"
     },
     "user_tz": 300
    },
    "id": "V2R9HLePQ85q"
   },
   "outputs": [],
   "source": [
    "# Create sample embedding\n",
    "sample_embedding1 = embeddings.embed_query(document_chunks[0].page_content)\n",
    "sample_embedding2 = embeddings.embed_query(document_chunks[1].page_content)"
   ]
  },
  {
   "cell_type": "code",
   "execution_count": 27,
   "metadata": {
    "colab": {
     "base_uri": "https://localhost:8080/"
    },
    "executionInfo": {
     "elapsed": 7,
     "status": "ok",
     "timestamp": 1752639715914,
     "user": {
      "displayName": "Arinjoy Paul",
      "userId": "07385845506721109358"
     },
     "user_tz": 300
    },
    "id": "Y34_mkEqRN3y",
    "outputId": "609cc8cc-b7c9-4efe-c78a-fbe861cbc9fe"
   },
   "outputs": [
    {
     "name": "stdout",
     "output_type": "stream",
     "text": [
      "Dimension of the embedding vector Sample 1:  384\n",
      "Dimension of the embedding vector Sample 2:  384\n"
     ]
    }
   ],
   "source": [
    "print(\"Dimension of the embedding vector Sample 1: \",len(sample_embedding1))\n",
    "print(\"Dimension of the embedding vector Sample 2: \",len(sample_embedding2))"
   ]
  },
  {
   "cell_type": "code",
   "execution_count": 57,
   "metadata": {
    "colab": {
     "base_uri": "https://localhost:8080/"
    },
    "executionInfo": {
     "elapsed": 35,
     "status": "ok",
     "timestamp": 1752636471784,
     "user": {
      "displayName": "Arinjoy Paul",
      "userId": "07385845506721109358"
     },
     "user_tz": 300
    },
    "id": "sFEHf4XzRh_7",
    "outputId": "9921c256-4f69-485f-dcfe-10d16fbd0f70"
   },
   "outputs": [
    {
     "data": {
      "text/plain": [
       "[-0.0800420492887497,\n",
       " 0.06734584271907806,\n",
       " -0.01294492557644844,\n",
       " -0.02103177271783352,\n",
       " 0.07749021798372269,\n",
       " -0.01184738427400589,\n",
       " 0.08392569422721863,\n",
       " 0.033526141196489334,\n",
       " -0.011201208457350731,\n",
       " 0.005054276902228594,\n",
       " 0.02908654883503914,\n",
       " 0.03555923327803612,\n",
       " -0.04199464991688728,\n",
       " -0.029834741726517677,\n",
       " -0.046611618250608444,\n",
       " -0.04584316164255142,\n",
       " -0.0794377475976944,\n",
       " 0.003304113866761327,\n",
       " -0.06368686258792877,\n",
       " 0.019289657473564148,\n",
       " -0.07622833549976349,\n",
       " -0.042255643755197525,\n",
       " -0.007017737254500389,\n",
       " -0.045729655772447586,\n",
       " -0.025984320789575577,\n",
       " 0.06404786556959152,\n",
       " -0.0370183140039444,\n",
       " 0.07874372601509094,\n",
       " -0.021417228505015373,\n",
       " -0.07947944849729538,\n",
       " 0.05655964836478233,\n",
       " -0.031771186739206314,\n",
       " 0.07365147769451141,\n",
       " -0.008277401328086853,\n",
       " 0.027268456295132637,\n",
       " 0.051737960427999496,\n",
       " -0.07374688982963562,\n",
       " -0.09671849757432938,\n",
       " 0.015409206040203571,\n",
       " -0.013661373406648636,\n",
       " 0.033828288316726685,\n",
       " 0.017665619030594826,\n",
       " -0.03800656273961067,\n",
       " 0.07942384481430054,\n",
       " -0.01151962485164404,\n",
       " 0.06533459573984146,\n",
       " 0.03866148740053177,\n",
       " -0.05660407617688179,\n",
       " 0.051801033318042755,\n",
       " 0.09200748801231384,\n",
       " -0.010563627816736698,\n",
       " -0.01220904104411602,\n",
       " 0.021382281556725502,\n",
       " 0.06069881469011307,\n",
       " -0.03364943712949753,\n",
       " -0.022821219637989998,\n",
       " 0.017492463812232018,\n",
       " -0.030514247715473175,\n",
       " -0.030347177758812904,\n",
       " -0.025263216346502304,\n",
       " 0.08184240758419037,\n",
       " 0.06314355134963989,\n",
       " -0.06326954811811447,\n",
       " 0.018557194620370865,\n",
       " 0.024700088426470757,\n",
       " -0.03281613066792488,\n",
       " -0.0052868458442389965,\n",
       " 0.04234007000923157,\n",
       " 0.02321271412074566,\n",
       " -0.03806864097714424,\n",
       " 0.002432513050734997,\n",
       " -0.00023527115990873426,\n",
       " -0.0622745081782341,\n",
       " 0.08084218949079514,\n",
       " -0.02823059819638729,\n",
       " 0.06723342090845108,\n",
       " 0.07678746432065964,\n",
       " -0.0343676321208477,\n",
       " -0.04101552441716194,\n",
       " -0.017298854887485504,\n",
       " -0.05886998772621155,\n",
       " -0.006602541543543339,\n",
       " 0.02059217169880867,\n",
       " -0.027303198352456093,\n",
       " -0.024867204949259758,\n",
       " 0.09656405448913574,\n",
       " 0.027135668322443962,\n",
       " 0.029357530176639557,\n",
       " 0.031470105051994324,\n",
       " 0.01707477867603302,\n",
       " 0.011915165930986404,\n",
       " 0.06661870330572128,\n",
       " 0.14082396030426025,\n",
       " -0.022414105013012886,\n",
       " -0.02902013249695301,\n",
       " 0.03950649872422218,\n",
       " -0.043715957552194595,\n",
       " -0.025847064331173897,\n",
       " -0.08772267401218414,\n",
       " 0.09874123334884644,\n",
       " -0.022533217445015907,\n",
       " 0.02400852181017399,\n",
       " 0.009116783738136292,\n",
       " -0.06230444833636284,\n",
       " -0.07320632040500641,\n",
       " -0.02270972542464733,\n",
       " -0.08822906017303467,\n",
       " 0.0547265000641346,\n",
       " 0.042131442576646805,\n",
       " 0.017419349402189255,\n",
       " -0.052264533936977386,\n",
       " 0.008862722665071487,\n",
       " 0.033806782215833664,\n",
       " 0.026073087006807327,\n",
       " 0.12195675820112228,\n",
       " -0.037479791790246964,\n",
       " -0.09074866771697998,\n",
       " 0.02101263776421547,\n",
       " 0.10079087316989899,\n",
       " -0.07464764267206192,\n",
       " 0.0770956426858902,\n",
       " -0.05245921015739441,\n",
       " 0.024716123938560486,\n",
       " 0.0008445987477898598,\n",
       " -0.07584362477064133,\n",
       " -0.08981840312480927,\n",
       " 0.029839197173714638,\n",
       " 1.0888277237300527e-32,\n",
       " -0.024449100717902184,\n",
       " 0.0649910718202591,\n",
       " 0.03655749559402466,\n",
       " 0.015779420733451843,\n",
       " -0.0055411336943507195,\n",
       " -0.01733853481709957,\n",
       " 0.05272580683231354,\n",
       " 0.05022088438272476,\n",
       " -0.05099587142467499,\n",
       " 0.03638095781207085,\n",
       " 0.023040225729346275,\n",
       " 0.03655066713690758,\n",
       " -0.028875412419438362,\n",
       " -0.018651369959115982,\n",
       " -0.07147771865129471,\n",
       " -0.021276066079735756,\n",
       " 0.044462841004133224,\n",
       " 0.06537662446498871,\n",
       " 0.04972421005368233,\n",
       " -0.02769392542541027,\n",
       " -0.03609525039792061,\n",
       " -0.025180794298648834,\n",
       " -0.0691068172454834,\n",
       " 0.04681024327874184,\n",
       " -0.03332611173391342,\n",
       " 0.04263083264231682,\n",
       " 0.03938151150941849,\n",
       " -0.03598899021744728,\n",
       " 0.0486508309841156,\n",
       " 0.024182436987757683,\n",
       " 0.005688744597136974,\n",
       " 0.0008822010131552815,\n",
       " 0.004992711823433638,\n",
       " 0.06689348816871643,\n",
       " 0.023961013182997704,\n",
       " 0.023348551243543625,\n",
       " -0.10892701148986816,\n",
       " 0.004319783300161362,\n",
       " -0.08337778598070145,\n",
       " -0.026363659650087357,\n",
       " 0.08089236915111542,\n",
       " -0.0773489847779274,\n",
       " 0.11014322191476822,\n",
       " 0.0573539212346077,\n",
       " -0.08746673911809921,\n",
       " -0.07093589007854462,\n",
       " 0.002870088443160057,\n",
       " 0.06461582332849503,\n",
       " 0.0636846050620079,\n",
       " 0.03040771372616291,\n",
       " -0.015971682965755463,\n",
       " -0.009537314996123314,\n",
       " -0.004937746562063694,\n",
       " -0.056506358087062836,\n",
       " -0.04500642418861389,\n",
       " -0.03001902997493744,\n",
       " -0.062672458589077,\n",
       " 0.001980406465008855,\n",
       " 0.010745866224169731,\n",
       " -0.052093226462602615,\n",
       " 0.04115937650203705,\n",
       " 0.04105016589164734,\n",
       " -0.00794206652790308,\n",
       " 0.01360730454325676,\n",
       " -0.039115965366363525,\n",
       " -0.0736803263425827,\n",
       " -0.01745764911174774,\n",
       " -0.13547001779079437,\n",
       " -0.00037298951065167785,\n",
       " -0.07476246356964111,\n",
       " -0.026925010606646538,\n",
       " -0.019579285755753517,\n",
       " 0.06169883906841278,\n",
       " 0.024773892015218735,\n",
       " -0.0950934886932373,\n",
       " -0.0037234192714095116,\n",
       " 0.023243658244609833,\n",
       " 0.025116991251707077,\n",
       " -0.016148149967193604,\n",
       " 0.00972040742635727,\n",
       " -0.09947886317968369,\n",
       " -0.07176164537668228,\n",
       " 0.04880443587899208,\n",
       " 0.012239143252372742,\n",
       " -0.0560174398124218,\n",
       " -0.015360264107584953,\n",
       " 0.06308479607105255,\n",
       " -0.0029389646369963884,\n",
       " 0.00992010347545147,\n",
       " 0.0714188739657402,\n",
       " 0.016515688970685005,\n",
       " -0.017586639150977135,\n",
       " -0.07436215877532959,\n",
       " -0.03762763738632202,\n",
       " 0.015093181282281876,\n",
       " -1.0637589842676227e-32,\n",
       " -0.039218515157699585,\n",
       " -0.100417360663414,\n",
       " -0.08249743282794952,\n",
       " -0.03723162040114403,\n",
       " -0.02419470064342022,\n",
       " 0.06654629111289978,\n",
       " 0.03797728195786476,\n",
       " 0.08392397314310074,\n",
       " -0.002325061708688736,\n",
       " 0.013585169799625874,\n",
       " -0.08308800309896469,\n",
       " 0.014348482713103294,\n",
       " 0.011425008997321129,\n",
       " -0.12284823507070541,\n",
       " -0.01640787534415722,\n",
       " -0.016522202640771866,\n",
       " 0.06831044703722,\n",
       " 0.006103235762566328,\n",
       " 0.023128286004066467,\n",
       " -0.05552777647972107,\n",
       " 0.0028100914787501097,\n",
       " 0.09157652407884598,\n",
       " 0.02698199637234211,\n",
       " 0.05492710694670677,\n",
       " -0.007245893124490976,\n",
       " 0.0015675787581130862,\n",
       " 0.0572713203728199,\n",
       " 0.065404012799263,\n",
       " -0.06822825223207474,\n",
       " 0.06998205929994583,\n",
       " 0.10032961517572403,\n",
       " -0.045138873159885406,\n",
       " -0.15381918847560883,\n",
       " 0.0241523627191782,\n",
       " -0.10067430138587952,\n",
       " -0.0931321233510971,\n",
       " 0.08579450845718384,\n",
       " 0.014749856665730476,\n",
       " -0.02474167011678219,\n",
       " -0.041516613215208054,\n",
       " 0.0072008767165243626,\n",
       " 0.03486908599734306,\n",
       " -0.006641967687755823,\n",
       " 0.09731634706258774,\n",
       " -0.0233839750289917,\n",
       " -0.12059248983860016,\n",
       " 0.0268532894551754,\n",
       " -0.042450565844774246,\n",
       " 0.04251156747341156,\n",
       " 0.1021217629313469,\n",
       " 0.014153065159916878,\n",
       " -0.09457938373088837,\n",
       " 0.07675239443778992,\n",
       " -0.009606911800801754,\n",
       " -0.002272863406687975,\n",
       " 0.09139610826969147,\n",
       " 0.08020489662885666,\n",
       " -0.029726466163992882,\n",
       " 0.04853794723749161,\n",
       " -0.08413193374872208,\n",
       " 0.045431215316057205,\n",
       " 0.048890311270952225,\n",
       " -0.007558843120932579,\n",
       " -0.003141310065984726,\n",
       " 0.040759917348623276,\n",
       " -0.018989544361829758,\n",
       " 0.07290313392877579,\n",
       " -0.006703241728246212,\n",
       " -0.003495398908853531,\n",
       " -0.034174174070358276,\n",
       " 0.07184825092554092,\n",
       " -0.017817432060837746,\n",
       " 0.02001340687274933,\n",
       " -0.04065656289458275,\n",
       " 0.11815937608480453,\n",
       " 0.04040535166859627,\n",
       " 0.044777341187000275,\n",
       " 0.03105931170284748,\n",
       " -0.0419272854924202,\n",
       " -0.014282858930528164,\n",
       " 0.03995346277952194,\n",
       " -0.020087463781237602,\n",
       " -0.04064752534031868,\n",
       " 0.01820690743625164,\n",
       " 0.08366221934556961,\n",
       " -0.09988469630479813,\n",
       " 0.036730293184518814,\n",
       " 0.019691087305545807,\n",
       " -0.021388651803135872,\n",
       " -0.007848963141441345,\n",
       " -0.06801500171422958,\n",
       " 0.023722780868411064,\n",
       " 0.017026809975504875,\n",
       " 0.023565538227558136,\n",
       " -0.02579820528626442,\n",
       " -4.3156060058890944e-08,\n",
       " 0.03335677087306976,\n",
       " 0.013455216772854328,\n",
       " 0.030940530821681023,\n",
       " 0.03818211704492569,\n",
       " 0.04096851125359535,\n",
       " 0.020520588383078575,\n",
       " 0.03606627136468887,\n",
       " 0.04505053162574768,\n",
       " -0.03873317688703537,\n",
       " 0.06872958689928055,\n",
       " -0.024309750646352768,\n",
       " -0.03591090440750122,\n",
       " -0.009021895006299019,\n",
       " 0.017303161323070526,\n",
       " -0.06651631742715836,\n",
       " -0.051452696323394775,\n",
       " -0.027631288394331932,\n",
       " 0.017545029520988464,\n",
       " -0.11175446957349777,\n",
       " -0.06640644371509552,\n",
       " -0.047369301319122314,\n",
       " 0.029449405148625374,\n",
       " 0.01746288128197193,\n",
       " -0.07605625689029694,\n",
       " 0.031132131814956665,\n",
       " 0.012749207206070423,\n",
       " 0.04056408628821373,\n",
       " 0.06126959249377251,\n",
       " -0.029893605038523674,\n",
       " 0.003288531443104148,\n",
       " -0.06029859930276871,\n",
       " -0.00462298234924674,\n",
       " 0.04641837254166603,\n",
       " -0.06417661160230637,\n",
       " -0.035989776253700256,\n",
       " -0.030738590285182,\n",
       " -0.005498162005096674,\n",
       " 0.002590484218671918,\n",
       " -0.024537811055779457,\n",
       " -0.0413881354033947,\n",
       " -0.034265924245119095,\n",
       " -0.010281187482178211,\n",
       " 0.05791521817445755,\n",
       " 0.033645760267972946,\n",
       " 0.01904759369790554,\n",
       " -0.048722270876169205,\n",
       " -0.0566181056201458,\n",
       " -0.04433918744325638,\n",
       " 0.01521523017436266,\n",
       " -0.01567358523607254,\n",
       " -0.0030946177430450916,\n",
       " -0.07119835168123245,\n",
       " -0.01894267648458481,\n",
       " 0.011086110025644302,\n",
       " -0.08977250009775162,\n",
       " -0.01551682036370039,\n",
       " 0.040823664516210556,\n",
       " 0.057655248790979385,\n",
       " 0.05736164003610611,\n",
       " 0.047910165041685104,\n",
       " -0.02190023474395275,\n",
       " 0.005559136625379324,\n",
       " -0.00860066432505846,\n",
       " -0.05141682177782059]"
      ]
     },
     "execution_count": 57,
     "metadata": {},
     "output_type": "execute_result"
    }
   ],
   "source": [
    "# Listing one from the above sample\n",
    "sample_embedding1"
   ]
  },
  {
   "cell_type": "markdown",
   "metadata": {
    "id": "qiKCOv4X0d7B"
   },
   "source": [
    "### Vector Database"
   ]
  },
  {
   "cell_type": "code",
   "execution_count": 28,
   "metadata": {
    "executionInfo": {
     "elapsed": 13,
     "status": "ok",
     "timestamp": 1752639722474,
     "user": {
      "displayName": "Arinjoy Paul",
      "userId": "07385845506721109358"
     },
     "user_tz": 300
    },
    "id": "vHHt1MQQRVzs"
   },
   "outputs": [],
   "source": [
    "# Create ChromaDB persistent file\n",
    "persist_directory = 'medicalDB'\n",
    "\n",
    "# Create file if not present\n",
    "if not os.path.exists(persist_directory):\n",
    "    os.makedirs(persist_directory)"
   ]
  },
  {
   "cell_type": "code",
   "execution_count": null,
   "metadata": {
    "id": "Pc7DcYYTSQNm"
   },
   "outputs": [],
   "source": [
    "# Create a vector store from the embeddings and store it persistent disk\n",
    "vector_db = Chroma.from_documents(\n",
    "    documents=document_chunks,\n",
    "    embedding=embeddings,\n",
    "    persist_directory=persist_directory\n",
    ")"
   ]
  },
  {
   "cell_type": "code",
   "execution_count": 61,
   "metadata": {
    "colab": {
     "base_uri": "https://localhost:8080/"
    },
    "executionInfo": {
     "elapsed": 135,
     "status": "ok",
     "timestamp": 1752637215465,
     "user": {
      "displayName": "Arinjoy Paul",
      "userId": "07385845506721109358"
     },
     "user_tz": 300
    },
    "id": "z07OBpM_UL7r",
    "outputId": "dddfed85-8fa5-43d2-8d2b-3abd598563a0"
   },
   "outputs": [
    {
     "name": "stderr",
     "output_type": "stream",
     "text": [
      "ERROR:chromadb.telemetry.product.posthog:Failed to send telemetry event CollectionQueryEvent: capture() takes 1 positional argument but 3 were given\n"
     ]
    },
    {
     "data": {
      "text/plain": [
       "[Document(page_content=\"16 - Critical Care Medicine\\nChapter 222. Approach to the Critically Ill Patient\\nIntroduction\\nCritical care medicine specializes in caring for the most seriously ill patients. These patients are best\\ntreated in an ICU staffed by experienced personnel. Some hospitals maintain separate units for special\\npopulations (eg, cardiac, surgical, neurologic, pediatric, or neonatal patients). ICUs have a high\\nnurse:patient ratio to provide the necessary high intensity of service, including treatment and monitoring\\nof physiologic parameters.\\nSupportive care for the ICU patient includes provision of adequate nutrition (see p. 21) and prevention of\\ninfection, stress ulcers and gastritis (see p. 131), and pulmonary embolism (see p. 1920). Because 15 to\\n25% of patients admitted to ICUs die there, physicians should know how to minimize suffering and help\\ndying patients maintain dignity (see p. 3480).\\nPatient Monitoring and Testing\\nSome monitoring is manual (ie, by direct observation and physical examination) and intermittent, with the\\nfrequency depending on the patient's illness. This monitoring usually includes measurement of vital signs\\n(temperature, BP, pulse, and respiration rate), quantification of all fluid intake and output, and often daily\\nweight. BP may be recorded by an automated sphygmomanometer; a transcutaneous sensor for pulse\\noximetry is used as well.\\nOther monitoring is ongoing and continuous, provided by complex devices that require special training\\nand experience to operate. Most such devices generate an alarm if certain physiologic parameters are\\nexceeded. Every ICU should strictly follow protocols for investigating alarms.\\nBlood Tests\\nAlthough frequent blood draws can destroy veins, cause pain, and lead to anemia, ICU patients typically\\nhave routine daily blood tests to help detect problems early. Generally, patients need a daily set of\\nelectrolytes and a CBC. Patients with arrhythmias should also have Mg, phosphate, and Ca levels\\nmeasured. Patients receiving TPN need weekly liver enzymes and coagulation profiles. Other tests (eg,\\nblood culture for fever, CBC after a bleeding episode) are done as needed.\\nPoint-of-care testing uses miniaturized, highly automated devices to do certain blood tests at the patient's\\nbedside or unit (particularly ICU, emergency department, and operating room). Commonly available tests\\ninclude blood chemistries, glucose, ABGs, CBC, cardiac markers, and coagulation tests. Many are done\\nin < 2 min and require < 0.5 mL blood.\\nCardiac Monitoring\\nMost critical care patients have cardiac activity monitored by a 3-lead system; signals are usually sent to\\na central monitoring station by a small radio transmitter worn by the patient. Automated systems generate\\nalarms for abnormal rates and rhythms and store abnormal tracings for subsequent review.\\nSome specialized cardiac monitors track advanced parameters associated with coronary ischemia,\\nalthough their clinical benefit is unclear. These parameters include continuous ST-segment monitoring\\nand heart rate variability. Loss of normal beat-to-beat variability signals a reduction in autonomic activity\\nand possibly coronary ischemia and increased risk of death.\\nPulmonary Artery Catheter Monitoring\\nUse of a pulmonary artery catheter (PAC) is becoming less common in ICU patients. This balloon-tipped,\\nflow-directed catheter is inserted via central veins through the right side of the heart into the pulmonary\\nartery. The catheter typically contains several ports that can monitor pressure or inject fluids. Some PACs\\nThe Merck Manual of Diagnosis & Therapy, 19th Edition\\nChapter 222. Approach to the Critically Ill Patient\\n2391\\narinjoy.paul@hotmail.com\\nC4VK1R6FOB\\nThis file is meant for personal use by arinjoy.paul@hotmail.com only.\\nSharing or publishing the contents in part or full is liable for legal action.\", metadata={'author': '', 'creationDate': 'D:20120615054440Z', 'creator': 'Atop CHM to PDF Converter', 'file_path': '/content/drive/My Drive/Project5/medical_diagnosis_manual.pdf', 'format': 'PDF 1.7', 'keywords': '', 'modDate': 'D:20250716010455Z', 'page': 2400, 'producer': 'pdf-lib (https://github.com/Hopding/pdf-lib)', 'source': '/content/drive/My Drive/Project5/medical_diagnosis_manual.pdf', 'subject': '', 'title': 'The Merck Manual of Diagnosis & Therapy, 19th Edition', 'total_pages': 4114, 'trapped': ''}),\n",
       " Document(page_content='shaking chills, persistent fever, altered sensorium, hypotension, and GI symptoms (abdominal pain,\\nnausea, vomiting, diarrhea) suggests sepsis or septic shock. Septic shock develops in 25 to 40% of\\npatients with significant bacteremia.\\nDiagnosis\\nIf bacteremia, sepsis, or septic shock is suspected, cultures are obtained of blood and any other\\nappropriate specimens (see p. 1166).\\nTreatment\\n• Antibiotics\\nIn patients with suspected bacteremia, empiric antibiotics are given after appropriate cultures are\\nobtained. Early treatment of bacteremia with an appropriate antimicrobial regimen appears to improve\\nsurvival. Continuing therapy involves adjusting antibiotics according to the results of culture and\\nsusceptibility testing, surgically draining any abscesses, and usually removing any internal devices that\\nare the suspected source of bacteria.\\nBiological Warfare and Terrorism\\nBiological warfare is the use of microbiological agents for hostile purposes. Such use is contrary to\\ninternational law and has rarely taken place during formal warfare in modern history, despite the extensive\\npreparations and stockpiling of biological agents carried out during the 20th century by most major\\npowers. For a variety of reasons (including uncertain military efficacy and the threat of massive\\nretaliation), experts consider the use of biological agents in formal warfare unlikely. The area of most\\nconcern is the use of such agents by terrorist groups. Biological agents are thought by some people to be\\nan ideal weapon for terrorists. These agents may be delivered clandestinely, and they have delayed\\neffects, allowing the user to remain undetected.\\nPotential biological agents include anthrax, botulinum toxin, brucellosis, encephalitis, viruses,\\nhemorrhagic fever viruses (Ebola and Marburg), plague, tularemia, and smallpox. Each of these agents is\\npotentially fatal and, except for anthrax and botulinum toxin, can be passed from person to person.\\nAnthrax is of most concern; anthrax spores are relatively easy to prepare and spread through the air,\\ncreating the potential for distribution by airplane. Theoretically, 1 kg of anthrax could kill 10,000 people,\\nalthough technical difficulties with preparing the spores in a sufficiently fine powder would probably limit\\nactual deaths to a fraction of this number. Some other potential agents, including Yersinia pestis,\\nFrancisella tularensis, viral hemorrhagic fever viruses, smallpox virus, and botulinum toxin, can potentially\\nbe aerosolized as bioweapons.\\nDespite these theoretical concerns, the only successful terrorist use of anthrax—multiple pieces of\\ncontaminated mail delivered to a variety of locations in the US in 2001—resulted in only a handful of\\ndeaths and serious infections (total of 22 cases). A larger number of people were contaminated with\\nanthrax spores without developing illness. However, there was extreme public anxiety related to these\\nincidents, which may have been a major goal of the terror group responsible.\\nIn addition to the actual infections, an even greater number of false threats of anthrax have been\\nreported. In 1999, the FBI received an average of 1 false report/day of alleged anthrax use. False reports,\\nboth hoaxes and alarmed citizens misperceiving harmless material for anthrax, increased even more after\\nthe 2001 anthrax attack in the US.\\nThe only other successful use of a biological agent by a terror group in the US occurred in 1984. In this\\nevent, 751 people were stricken with diarrhea when a salad bar in Oregon was intentionally contaminated\\nwith Salmonella. The bacteria were introduced by a religious cult trying to influence the results of a local\\nelection. No one died, and the election was not affected.\\nDefense against bioterrorism involves several factors:\\nThe Merck Manual of Diagnosis & Therapy, 19th Edition\\nChapter 129. Biology of Infectious Disease\\n1298\\narinjoy.paul@hotmail.com\\nC4VK1R6FOB\\nThis file is meant for personal use by arinjoy.paul@hotmail.com only.\\nSharing or publishing the contents in part or full is liable for legal action.', metadata={'author': '', 'creationDate': 'D:20120615054440Z', 'creator': 'Atop CHM to PDF Converter', 'file_path': '/content/drive/My Drive/Project5/medical_diagnosis_manual.pdf', 'format': 'PDF 1.7', 'keywords': '', 'modDate': 'D:20250716010455Z', 'page': 1307, 'producer': 'pdf-lib (https://github.com/Hopding/pdf-lib)', 'source': '/content/drive/My Drive/Project5/medical_diagnosis_manual.pdf', 'subject': '', 'title': 'The Merck Manual of Diagnosis & Therapy, 19th Edition', 'total_pages': 4114, 'trapped': ''}),\n",
       " Document(page_content='rate is ≥ 125 beats/min. ICU admission is required for patients who need mechanical ventilation and for\\nthose with hypotension (systolic BP < 90 mm Hg) that is unresponsive to volume resuscitation. Other\\ncriteria that mandate consideration for ICU admission include respiratory rate > 30/min, PaO2/fraction of\\ninspired O2 (FIO2) < 250, multilobar pneumonia, diastolic BP < 60 mm Hg, confusion, and BUN > 19.6\\nmg/dL.\\nAppropriate treatment involves starting antibiotics as soon as possible, preferably ≤ 8 h after presentation.\\nSupportive care includes fluids, antipyretics, analgesics, and, for patients with hypoxemia, O2.\\nBecause organisms are difficult to identify, antibiotics are selected based on likely pathogens and severity\\nof illness. Consensus guidelines have been developed by many professional organizations; one widely\\nused set is detailed in Table 196-2. Guidelines should be adapted to local susceptibility patterns, drug\\nformularies, and individual patient circumstances. Importantly, none provide recommendations for\\ntreatment of viral pneumonia.\\nRibavirin and RSV Ig have been used alone and in combination for RSV bronchiolitis in children, but their\\neffectiveness is controversial, and neither is standard practice. Ribavirin is not used in adults with RSV\\ninfection.\\n[Table 196-4. Risk Stratification for Community-Acquired Pneumonia]\\nOseltamivir 75 mg po bid or zanamivir 10 mg inhaled bid started within 48 h of symptom onset and given\\nfor 5 days reduces the duration and severity of symptoms in patients who develop influenza infection.\\nAcyclovir 5 to 10 mg/kg IV q 8 h for adults or 250 to 500 mg/m2 body surface area IV q 8 h for children is\\nrecommended for varicella lung infections. Some patients with viral pneumonia, especially those with\\ninfluenza, develop superimposed bacterial infections and require antibiotics directed against S.\\npneumoniae, H. influenzae, and Staphylococcus aureus.\\nWith empiric treatment, 90% of patients with bacterial pneumonia improve. Improvement is manifested by\\ndecreased cough and dyspnea, defervescence, relief of chest pain, and decline in WBC count. Failure to\\nimprove should trigger suspicion of an unusual organism, resistance to the antimicrobial used for\\ntreatment, empyema, coinfection or superinfection with a 2nd infectious agent, an obstructive\\nendobronchial lesion, immunosuppression, metastatic focus of infection with reseeding (in the case of\\npneumococcal infection), or nonadherence to treatment (in the case of outpatients). If none of these can\\nbe proved, treatment failure is likely due to inadequate host defenses.\\nMost viral pneumonias resolve without specific treatment.\\nChest physical therapy can be used to treat pneumonia; however, there is no clear evidence for its\\nefficacy. Follow-up x-rays should be obtained 6 wk after treatment in patients > 35; persistence of an\\ninfiltrate at ≥ 6 wk raises suspicions of an underlying, possibly malignant endobronchial lesion or of TB.\\nPrevention\\nSome forms of community-acquired pneumonia are preventable with pneumococcal conjugate vaccine\\n(for patients < 2 yr), H. influenzae type b (Hib) vaccine (for patients < 2 yr), pneumococcal pneumonia\\nvaccine (for patients at high risk, such as those with underlying heart, lung, or immune system disorders),\\nvaricella vaccine (for patients < 18 mo and a later booster vaccine), and influenza vaccine (for patients\\nage ≥ 65 and those at high risk—see\\nTable 131-2 on p. 1174 and see\\nTable 268-10 on p. 2718). Oseltamivir 75 mg po once/day or zanamivir 10 mg once/day can be given for 2\\nwk to prevent influenza (although resistance has recently been described for oseltamivir) for household\\ncontacts of patients with influenza and to high-risk patients not vaccinated against influenza during\\ninfluenza epidemics. Pneumococcal pneumonia vaccination is recommended for all patients ≥ 65 (see p.\\n1177).\\nHospital-Acquired Pneumonia\\nThe Merck Manual of Diagnosis & Therapy, 19th Edition\\nChapter 196. Pneumonia\\n2085\\narinjoy.paul@hotmail.com', metadata={'author': '', 'creationDate': 'D:20120615054440Z', 'creator': 'Atop CHM to PDF Converter', 'file_path': '/content/drive/My Drive/Project5/medical_diagnosis_manual.pdf', 'format': 'PDF 1.7', 'keywords': '', 'modDate': 'D:20250716010455Z', 'page': 2094, 'producer': 'pdf-lib (https://github.com/Hopding/pdf-lib)', 'source': '/content/drive/My Drive/Project5/medical_diagnosis_manual.pdf', 'subject': '', 'title': 'The Merck Manual of Diagnosis & Therapy, 19th Edition', 'total_pages': 4114, 'trapped': ''})]"
      ]
     },
     "execution_count": 61,
     "metadata": {},
     "output_type": "execute_result"
    }
   ],
   "source": [
    "# Testing Similarity search with top 3 choices\n",
    "query = \"What is the protocol for managing sepsis in a critical care unit?\"\n",
    "vector_db.similarity_search(query,k=3)"
   ]
  },
  {
   "cell_type": "markdown",
   "metadata": {
    "id": "uEa5sKc41T1z"
   },
   "source": [
    "### Retriever"
   ]
  },
  {
   "cell_type": "code",
   "execution_count": 30,
   "metadata": {
    "executionInfo": {
     "elapsed": 16,
     "status": "ok",
     "timestamp": 1752639777086,
     "user": {
      "displayName": "Arinjoy Paul",
      "userId": "07385845506721109358"
     },
     "user_tz": 300
    },
    "id": "wBlQUGx3RWUD"
   },
   "outputs": [],
   "source": [
    "# Using as-retriever to perform the Similarity search\n",
    "retriever = vector_db.as_retriever(\n",
    "    search_type='similarity',\n",
    "    search_kwargs={'k': 3}\n",
    ")"
   ]
  },
  {
   "cell_type": "code",
   "execution_count": 63,
   "metadata": {
    "colab": {
     "base_uri": "https://localhost:8080/"
    },
    "executionInfo": {
     "elapsed": 113,
     "status": "ok",
     "timestamp": 1752637424883,
     "user": {
      "displayName": "Arinjoy Paul",
      "userId": "07385845506721109358"
     },
     "user_tz": 300
    },
    "id": "gqf3U9-tVFpp",
    "outputId": "74748319-c31c-42f2-b4d9-9d098dd9462c"
   },
   "outputs": [
    {
     "data": {
      "text/plain": [
       "[Document(page_content=\"16 - Critical Care Medicine\\nChapter 222. Approach to the Critically Ill Patient\\nIntroduction\\nCritical care medicine specializes in caring for the most seriously ill patients. These patients are best\\ntreated in an ICU staffed by experienced personnel. Some hospitals maintain separate units for special\\npopulations (eg, cardiac, surgical, neurologic, pediatric, or neonatal patients). ICUs have a high\\nnurse:patient ratio to provide the necessary high intensity of service, including treatment and monitoring\\nof physiologic parameters.\\nSupportive care for the ICU patient includes provision of adequate nutrition (see p. 21) and prevention of\\ninfection, stress ulcers and gastritis (see p. 131), and pulmonary embolism (see p. 1920). Because 15 to\\n25% of patients admitted to ICUs die there, physicians should know how to minimize suffering and help\\ndying patients maintain dignity (see p. 3480).\\nPatient Monitoring and Testing\\nSome monitoring is manual (ie, by direct observation and physical examination) and intermittent, with the\\nfrequency depending on the patient's illness. This monitoring usually includes measurement of vital signs\\n(temperature, BP, pulse, and respiration rate), quantification of all fluid intake and output, and often daily\\nweight. BP may be recorded by an automated sphygmomanometer; a transcutaneous sensor for pulse\\noximetry is used as well.\\nOther monitoring is ongoing and continuous, provided by complex devices that require special training\\nand experience to operate. Most such devices generate an alarm if certain physiologic parameters are\\nexceeded. Every ICU should strictly follow protocols for investigating alarms.\\nBlood Tests\\nAlthough frequent blood draws can destroy veins, cause pain, and lead to anemia, ICU patients typically\\nhave routine daily blood tests to help detect problems early. Generally, patients need a daily set of\\nelectrolytes and a CBC. Patients with arrhythmias should also have Mg, phosphate, and Ca levels\\nmeasured. Patients receiving TPN need weekly liver enzymes and coagulation profiles. Other tests (eg,\\nblood culture for fever, CBC after a bleeding episode) are done as needed.\\nPoint-of-care testing uses miniaturized, highly automated devices to do certain blood tests at the patient's\\nbedside or unit (particularly ICU, emergency department, and operating room). Commonly available tests\\ninclude blood chemistries, glucose, ABGs, CBC, cardiac markers, and coagulation tests. Many are done\\nin < 2 min and require < 0.5 mL blood.\\nCardiac Monitoring\\nMost critical care patients have cardiac activity monitored by a 3-lead system; signals are usually sent to\\na central monitoring station by a small radio transmitter worn by the patient. Automated systems generate\\nalarms for abnormal rates and rhythms and store abnormal tracings for subsequent review.\\nSome specialized cardiac monitors track advanced parameters associated with coronary ischemia,\\nalthough their clinical benefit is unclear. These parameters include continuous ST-segment monitoring\\nand heart rate variability. Loss of normal beat-to-beat variability signals a reduction in autonomic activity\\nand possibly coronary ischemia and increased risk of death.\\nPulmonary Artery Catheter Monitoring\\nUse of a pulmonary artery catheter (PAC) is becoming less common in ICU patients. This balloon-tipped,\\nflow-directed catheter is inserted via central veins through the right side of the heart into the pulmonary\\nartery. The catheter typically contains several ports that can monitor pressure or inject fluids. Some PACs\\nThe Merck Manual of Diagnosis & Therapy, 19th Edition\\nChapter 222. Approach to the Critically Ill Patient\\n2391\\narinjoy.paul@hotmail.com\\nC4VK1R6FOB\\nThis file is meant for personal use by arinjoy.paul@hotmail.com only.\\nSharing or publishing the contents in part or full is liable for legal action.\", metadata={'author': '', 'creationDate': 'D:20120615054440Z', 'creator': 'Atop CHM to PDF Converter', 'file_path': '/content/drive/My Drive/Project5/medical_diagnosis_manual.pdf', 'format': 'PDF 1.7', 'keywords': '', 'modDate': 'D:20250716010455Z', 'page': 2400, 'producer': 'pdf-lib (https://github.com/Hopding/pdf-lib)', 'source': '/content/drive/My Drive/Project5/medical_diagnosis_manual.pdf', 'subject': '', 'title': 'The Merck Manual of Diagnosis & Therapy, 19th Edition', 'total_pages': 4114, 'trapped': ''}),\n",
       " Document(page_content='shaking chills, persistent fever, altered sensorium, hypotension, and GI symptoms (abdominal pain,\\nnausea, vomiting, diarrhea) suggests sepsis or septic shock. Septic shock develops in 25 to 40% of\\npatients with significant bacteremia.\\nDiagnosis\\nIf bacteremia, sepsis, or septic shock is suspected, cultures are obtained of blood and any other\\nappropriate specimens (see p. 1166).\\nTreatment\\n• Antibiotics\\nIn patients with suspected bacteremia, empiric antibiotics are given after appropriate cultures are\\nobtained. Early treatment of bacteremia with an appropriate antimicrobial regimen appears to improve\\nsurvival. Continuing therapy involves adjusting antibiotics according to the results of culture and\\nsusceptibility testing, surgically draining any abscesses, and usually removing any internal devices that\\nare the suspected source of bacteria.\\nBiological Warfare and Terrorism\\nBiological warfare is the use of microbiological agents for hostile purposes. Such use is contrary to\\ninternational law and has rarely taken place during formal warfare in modern history, despite the extensive\\npreparations and stockpiling of biological agents carried out during the 20th century by most major\\npowers. For a variety of reasons (including uncertain military efficacy and the threat of massive\\nretaliation), experts consider the use of biological agents in formal warfare unlikely. The area of most\\nconcern is the use of such agents by terrorist groups. Biological agents are thought by some people to be\\nan ideal weapon for terrorists. These agents may be delivered clandestinely, and they have delayed\\neffects, allowing the user to remain undetected.\\nPotential biological agents include anthrax, botulinum toxin, brucellosis, encephalitis, viruses,\\nhemorrhagic fever viruses (Ebola and Marburg), plague, tularemia, and smallpox. Each of these agents is\\npotentially fatal and, except for anthrax and botulinum toxin, can be passed from person to person.\\nAnthrax is of most concern; anthrax spores are relatively easy to prepare and spread through the air,\\ncreating the potential for distribution by airplane. Theoretically, 1 kg of anthrax could kill 10,000 people,\\nalthough technical difficulties with preparing the spores in a sufficiently fine powder would probably limit\\nactual deaths to a fraction of this number. Some other potential agents, including Yersinia pestis,\\nFrancisella tularensis, viral hemorrhagic fever viruses, smallpox virus, and botulinum toxin, can potentially\\nbe aerosolized as bioweapons.\\nDespite these theoretical concerns, the only successful terrorist use of anthrax—multiple pieces of\\ncontaminated mail delivered to a variety of locations in the US in 2001—resulted in only a handful of\\ndeaths and serious infections (total of 22 cases). A larger number of people were contaminated with\\nanthrax spores without developing illness. However, there was extreme public anxiety related to these\\nincidents, which may have been a major goal of the terror group responsible.\\nIn addition to the actual infections, an even greater number of false threats of anthrax have been\\nreported. In 1999, the FBI received an average of 1 false report/day of alleged anthrax use. False reports,\\nboth hoaxes and alarmed citizens misperceiving harmless material for anthrax, increased even more after\\nthe 2001 anthrax attack in the US.\\nThe only other successful use of a biological agent by a terror group in the US occurred in 1984. In this\\nevent, 751 people were stricken with diarrhea when a salad bar in Oregon was intentionally contaminated\\nwith Salmonella. The bacteria were introduced by a religious cult trying to influence the results of a local\\nelection. No one died, and the election was not affected.\\nDefense against bioterrorism involves several factors:\\nThe Merck Manual of Diagnosis & Therapy, 19th Edition\\nChapter 129. Biology of Infectious Disease\\n1298\\narinjoy.paul@hotmail.com\\nC4VK1R6FOB\\nThis file is meant for personal use by arinjoy.paul@hotmail.com only.\\nSharing or publishing the contents in part or full is liable for legal action.', metadata={'author': '', 'creationDate': 'D:20120615054440Z', 'creator': 'Atop CHM to PDF Converter', 'file_path': '/content/drive/My Drive/Project5/medical_diagnosis_manual.pdf', 'format': 'PDF 1.7', 'keywords': '', 'modDate': 'D:20250716010455Z', 'page': 1307, 'producer': 'pdf-lib (https://github.com/Hopding/pdf-lib)', 'source': '/content/drive/My Drive/Project5/medical_diagnosis_manual.pdf', 'subject': '', 'title': 'The Merck Manual of Diagnosis & Therapy, 19th Edition', 'total_pages': 4114, 'trapped': ''}),\n",
       " Document(page_content='rate is ≥ 125 beats/min. ICU admission is required for patients who need mechanical ventilation and for\\nthose with hypotension (systolic BP < 90 mm Hg) that is unresponsive to volume resuscitation. Other\\ncriteria that mandate consideration for ICU admission include respiratory rate > 30/min, PaO2/fraction of\\ninspired O2 (FIO2) < 250, multilobar pneumonia, diastolic BP < 60 mm Hg, confusion, and BUN > 19.6\\nmg/dL.\\nAppropriate treatment involves starting antibiotics as soon as possible, preferably ≤ 8 h after presentation.\\nSupportive care includes fluids, antipyretics, analgesics, and, for patients with hypoxemia, O2.\\nBecause organisms are difficult to identify, antibiotics are selected based on likely pathogens and severity\\nof illness. Consensus guidelines have been developed by many professional organizations; one widely\\nused set is detailed in Table 196-2. Guidelines should be adapted to local susceptibility patterns, drug\\nformularies, and individual patient circumstances. Importantly, none provide recommendations for\\ntreatment of viral pneumonia.\\nRibavirin and RSV Ig have been used alone and in combination for RSV bronchiolitis in children, but their\\neffectiveness is controversial, and neither is standard practice. Ribavirin is not used in adults with RSV\\ninfection.\\n[Table 196-4. Risk Stratification for Community-Acquired Pneumonia]\\nOseltamivir 75 mg po bid or zanamivir 10 mg inhaled bid started within 48 h of symptom onset and given\\nfor 5 days reduces the duration and severity of symptoms in patients who develop influenza infection.\\nAcyclovir 5 to 10 mg/kg IV q 8 h for adults or 250 to 500 mg/m2 body surface area IV q 8 h for children is\\nrecommended for varicella lung infections. Some patients with viral pneumonia, especially those with\\ninfluenza, develop superimposed bacterial infections and require antibiotics directed against S.\\npneumoniae, H. influenzae, and Staphylococcus aureus.\\nWith empiric treatment, 90% of patients with bacterial pneumonia improve. Improvement is manifested by\\ndecreased cough and dyspnea, defervescence, relief of chest pain, and decline in WBC count. Failure to\\nimprove should trigger suspicion of an unusual organism, resistance to the antimicrobial used for\\ntreatment, empyema, coinfection or superinfection with a 2nd infectious agent, an obstructive\\nendobronchial lesion, immunosuppression, metastatic focus of infection with reseeding (in the case of\\npneumococcal infection), or nonadherence to treatment (in the case of outpatients). If none of these can\\nbe proved, treatment failure is likely due to inadequate host defenses.\\nMost viral pneumonias resolve without specific treatment.\\nChest physical therapy can be used to treat pneumonia; however, there is no clear evidence for its\\nefficacy. Follow-up x-rays should be obtained 6 wk after treatment in patients > 35; persistence of an\\ninfiltrate at ≥ 6 wk raises suspicions of an underlying, possibly malignant endobronchial lesion or of TB.\\nPrevention\\nSome forms of community-acquired pneumonia are preventable with pneumococcal conjugate vaccine\\n(for patients < 2 yr), H. influenzae type b (Hib) vaccine (for patients < 2 yr), pneumococcal pneumonia\\nvaccine (for patients at high risk, such as those with underlying heart, lung, or immune system disorders),\\nvaricella vaccine (for patients < 18 mo and a later booster vaccine), and influenza vaccine (for patients\\nage ≥ 65 and those at high risk—see\\nTable 131-2 on p. 1174 and see\\nTable 268-10 on p. 2718). Oseltamivir 75 mg po once/day or zanamivir 10 mg once/day can be given for 2\\nwk to prevent influenza (although resistance has recently been described for oseltamivir) for household\\ncontacts of patients with influenza and to high-risk patients not vaccinated against influenza during\\ninfluenza epidemics. Pneumococcal pneumonia vaccination is recommended for all patients ≥ 65 (see p.\\n1177).\\nHospital-Acquired Pneumonia\\nThe Merck Manual of Diagnosis & Therapy, 19th Edition\\nChapter 196. Pneumonia\\n2085\\narinjoy.paul@hotmail.com', metadata={'author': '', 'creationDate': 'D:20120615054440Z', 'creator': 'Atop CHM to PDF Converter', 'file_path': '/content/drive/My Drive/Project5/medical_diagnosis_manual.pdf', 'format': 'PDF 1.7', 'keywords': '', 'modDate': 'D:20250716010455Z', 'page': 2094, 'producer': 'pdf-lib (https://github.com/Hopding/pdf-lib)', 'source': '/content/drive/My Drive/Project5/medical_diagnosis_manual.pdf', 'subject': '', 'title': 'The Merck Manual of Diagnosis & Therapy, 19th Edition', 'total_pages': 4114, 'trapped': ''})]"
      ]
     },
     "execution_count": 63,
     "metadata": {},
     "output_type": "execute_result"
    }
   ],
   "source": [
    "# Invoke the retriever\n",
    "retriever.get_relevant_documents(query=query)"
   ]
  },
  {
   "cell_type": "markdown",
   "metadata": {
    "id": "vw8qcwq66B0C",
    "nteract": {
     "transient": {
      "deleting": false
     }
    }
   },
   "source": [
    "### System and User Prompt Template"
   ]
  },
  {
   "cell_type": "code",
   "execution_count": 31,
   "metadata": {
    "executionInfo": {
     "elapsed": 6,
     "status": "ok",
     "timestamp": 1752639809794,
     "user": {
      "displayName": "Arinjoy Paul",
      "userId": "07385845506721109358"
     },
     "user_tz": 300
    },
    "id": "GF_4399TRW5D"
   },
   "outputs": [],
   "source": [
    "# Define the System and User prompt\n",
    "qna_system_message = system_prompt\n",
    "\n",
    "qna_user_message_template = \"\"\"Use the context to answer the question.\n",
    "Context: {context}\n",
    "Question: {question}\"\"\""
   ]
  },
  {
   "cell_type": "markdown",
   "metadata": {
    "id": "TkIteX4m6mny"
   },
   "source": [
    "### Response Function"
   ]
  },
  {
   "cell_type": "code",
   "execution_count": 32,
   "metadata": {
    "executionInfo": {
     "elapsed": 5,
     "status": "ok",
     "timestamp": 1752639831432,
     "user": {
      "displayName": "Arinjoy Paul",
      "userId": "07385845506721109358"
     },
     "user_tz": 300
    },
    "id": "5jFvGnOJRXZx"
   },
   "outputs": [],
   "source": [
    "def generate_rag_response(user_input,k=3,max_tokens=128,temperature=0,top_p=0.95,top_k=10):\n",
    "    global qna_system_message,qna_user_message_template\n",
    "    # Retrieve relevant document chunks\n",
    "    relevant_document_chunks = retriever.get_relevant_documents(query=user_input,k=k)\n",
    "    context_list = [d.page_content for d in relevant_document_chunks]\n",
    "\n",
    "    # Combine document chunks into a single context\n",
    "    context_for_query = \". \".join(context_list)\n",
    "\n",
    "    user_message = qna_user_message_template.replace('{context}', context_for_query)\n",
    "    user_message = user_message.replace('{question}', user_input)\n",
    "\n",
    "    prompt = qna_system_message + '\\n' + user_message\n",
    "\n",
    "    # Generate the response\n",
    "    try:\n",
    "        response = llm(\n",
    "                  prompt=prompt,\n",
    "                  max_tokens=max_tokens,\n",
    "                  temperature=temperature,\n",
    "                  top_p=top_p,\n",
    "                  top_k=top_k\n",
    "                  )\n",
    "\n",
    "        # Extract and print the model's response\n",
    "        response = response['choices'][0]['text'].strip()\n",
    "    except Exception as e:\n",
    "        response = f'Sorry, I encountered the following error: \\n {e}'\n",
    "\n",
    "    return response"
   ]
  },
  {
   "cell_type": "markdown",
   "metadata": {
    "id": "ffP1SRYbPQHN"
   },
   "source": [
    "## Question Answering using RAG"
   ]
  },
  {
   "cell_type": "markdown",
   "metadata": {
    "id": "JjajBEj06B0E"
   },
   "source": [
    "### Query 1: What is the protocol for managing sepsis in a critical care unit?"
   ]
  },
  {
   "cell_type": "code",
   "execution_count": 35,
   "metadata": {
    "colab": {
     "base_uri": "https://localhost:8080/",
     "height": 87
    },
    "executionInfo": {
     "elapsed": 17221,
     "status": "ok",
     "timestamp": 1752639941651,
     "user": {
      "displayName": "Arinjoy Paul",
      "userId": "07385845506721109358"
     },
     "user_tz": 300
    },
    "id": "Nlo9sMpPRbTP",
    "outputId": "027870c8-0b07-41a2-a9cb-21c50d0cc719"
   },
   "outputs": [
    {
     "name": "stderr",
     "output_type": "stream",
     "text": [
      "Llama.generate: prefix-match hit\n"
     ]
    },
    {
     "data": {
      "application/vnd.google.colaboratory.intrinsic+json": {
       "type": "string"
      },
      "text/plain": [
       "'Answer: Sepsis is a serious condition that requires prompt diagnosis and treatment. In a critical care unit, the following steps are typically taken to manage sepsis:\\n1. Suspect sepsis based on symptoms such as shaking chills, persistent fever, altered sensorium, hypotension, and GI symptoms (abdominal pain, nausea, vomiting, diarrhea). Septic shock develops in 25 to 40% of patients with significant bacteremia.\\n2. Obtain cultures of blood and any other appropriate specimens for diagnosis.\\n3'"
      ]
     },
     "execution_count": 35,
     "metadata": {},
     "output_type": "execute_result"
    }
   ],
   "source": [
    "# User query1\n",
    "query1 = \"What is the protocol for managing sepsis in a critical care unit?\"\n",
    "generate_rag_response(query1)"
   ]
  },
  {
   "cell_type": "markdown",
   "metadata": {
    "id": "QDw8zXuq6B0F"
   },
   "source": [
    "### Query 2: What are the common symptoms for appendicitis, and can it be cured via medicine? If not, what surgical procedure should be followed to treat it?"
   ]
  },
  {
   "cell_type": "code",
   "execution_count": 34,
   "metadata": {
    "colab": {
     "base_uri": "https://localhost:8080/",
     "height": 105
    },
    "executionInfo": {
     "elapsed": 16882,
     "status": "ok",
     "timestamp": 1752639911995,
     "user": {
      "displayName": "Arinjoy Paul",
      "userId": "07385845506721109358"
     },
     "user_tz": 300
    },
    "id": "PVReF4G8RbzR",
    "outputId": "89169ccc-8c6e-47f3-fb11-17b9f34888ce"
   },
   "outputs": [
    {
     "name": "stderr",
     "output_type": "stream",
     "text": [
      "Llama.generate: prefix-match hit\n"
     ]
    },
    {
     "data": {
      "application/vnd.google.colaboratory.intrinsic+json": {
       "type": "string"
      },
      "text/plain": [
       "\"Answer: The common symptoms of appendicitis include epigastric or periumbilical pain followed by brief nausea, vomiting, and anorexia; after a few hours, the pain shifts to the right lower quadrant. Pain increases with cough and motion. Classic signs are right lower quadrant direct and rebound tenderness located at McBurney's point (junction of the middle and outer thirds of the line joining the umbilicus to the anterior superior spine). Additional signs include pain felt in the right lower quadrant with palpation of the left lower quadrant\""
      ]
     },
     "execution_count": 34,
     "metadata": {},
     "output_type": "execute_result"
    }
   ],
   "source": [
    "# User query2\n",
    "query2 = \"What are the common symptoms for appendicitis, and can it be cured via medicine? If not, what surgical procedure should be followed to treat it?\"\n",
    "generate_rag_response(query2)"
   ]
  },
  {
   "cell_type": "markdown",
   "metadata": {
    "id": "TggYyQPL6B0G"
   },
   "source": [
    "### Query 3: What are the effective treatments or solutions for addressing sudden patchy hair loss, commonly seen as localized bald spots on the scalp, and what could be the possible causes behind it?"
   ]
  },
  {
   "cell_type": "code",
   "execution_count": 36,
   "metadata": {
    "colab": {
     "base_uri": "https://localhost:8080/",
     "height": 105
    },
    "executionInfo": {
     "elapsed": 15100,
     "status": "ok",
     "timestamp": 1752639972978,
     "user": {
      "displayName": "Arinjoy Paul",
      "userId": "07385845506721109358"
     },
     "user_tz": 300
    },
    "id": "0aRbadGtRcX0",
    "outputId": "bbe8ecc2-0f24-4ec4-80ed-aeca0fa2cff7"
   },
   "outputs": [
    {
     "name": "stderr",
     "output_type": "stream",
     "text": [
      "Llama.generate: prefix-match hit\n"
     ]
    },
    {
     "data": {
      "application/vnd.google.colaboratory.intrinsic+json": {
       "type": "string"
      },
      "text/plain": [
       "'Answer: Sudden patchy hair loss, also known as alopecia areata, is a common autoimmune disorder that affects people with no obvious skin or systemic disorders. The scalp and beard are most frequently affected, but any hairy area may be involved. Hair loss may affect most or all of the body (alopecia universalis). Alopecia areata is thought to be an autoimmune disorder affecting genetically susceptible people exposed to unclear environmental triggers.\\nThe treatment options for alopecia areata include:\\n1. Topical treatments: Minox'"
      ]
     },
     "execution_count": 36,
     "metadata": {},
     "output_type": "execute_result"
    }
   ],
   "source": [
    "# User query3\n",
    "query3 = \"What are the effective treatments or solutions for addressing sudden patchy hair loss, commonly seen as localized bald spots on the scalp, and what could be the possible causes behind it?\"\n",
    "generate_rag_response(query3)"
   ]
  },
  {
   "cell_type": "markdown",
   "metadata": {
    "id": "1TgxdI-_6B0G"
   },
   "source": [
    "### Query 4:  What treatments are recommended for a person who has sustained a physical injury to brain tissue, resulting in temporary or permanent impairment of brain function?"
   ]
  },
  {
   "cell_type": "code",
   "execution_count": 37,
   "metadata": {
    "colab": {
     "base_uri": "https://localhost:8080/",
     "height": 105
    },
    "executionInfo": {
     "elapsed": 9656,
     "status": "ok",
     "timestamp": 1752639991091,
     "user": {
      "displayName": "Arinjoy Paul",
      "userId": "07385845506721109358"
     },
     "user_tz": 300
    },
    "id": "0vzRX1TcRc29",
    "outputId": "9bb6ea1b-722f-4b94-b31b-0859a1b0fddb"
   },
   "outputs": [
    {
     "name": "stderr",
     "output_type": "stream",
     "text": [
      "Llama.generate: prefix-match hit\n"
     ]
    },
    {
     "data": {
      "application/vnd.google.colaboratory.intrinsic+json": {
       "type": "string"
      },
      "text/plain": [
       "'Answer: Treatments for a person with a brain injury depend on the severity and location of the damage. For traumatic brain injuries (TBIs), late seizures may develop weeks, months, or even years later, leading to motor impairments, gait and balance disturbances, ataxia, and sensory losses. If a persistent vegetative state occurs, self-awareness and other mental activity are absent, but autonomic and motor reflexes are preserved, and sleep-wake cycles are normal. Few patients recover normal neurologic function when a persistent vegetative state lasts for'"
      ]
     },
     "execution_count": 37,
     "metadata": {},
     "output_type": "execute_result"
    }
   ],
   "source": [
    "# User query4\n",
    "query4 = \"What treatments are recommended for a person who has sustained a physical injury to brain tissue, resulting in temporary or permanent impairment of brain function?\"\n",
    "generate_rag_response(query4)"
   ]
  },
  {
   "cell_type": "markdown",
   "metadata": {
    "id": "FlHXYCkm6B0H"
   },
   "source": [
    "### Query 5: What are the necessary precautions and treatment steps for a person who has fractured their leg during a hiking trip, and what should be considered for their care and recovery?"
   ]
  },
  {
   "cell_type": "code",
   "execution_count": 38,
   "metadata": {
    "colab": {
     "base_uri": "https://localhost:8080/",
     "height": 105
    },
    "executionInfo": {
     "elapsed": 14800,
     "status": "ok",
     "timestamp": 1752640021738,
     "user": {
      "displayName": "Arinjoy Paul",
      "userId": "07385845506721109358"
     },
     "user_tz": 300
    },
    "id": "sarpUibcRdhq",
    "outputId": "30c79d1c-b2d8-4d09-85a3-dc2a662f4da3"
   },
   "outputs": [
    {
     "name": "stderr",
     "output_type": "stream",
     "text": [
      "Llama.generate: prefix-match hit\n"
     ]
    },
    {
     "data": {
      "application/vnd.google.colaboratory.intrinsic+json": {
       "type": "string"
      },
      "text/plain": [
       "'Answer: A fractured leg is a serious injury that requires prompt medical attention. The first step is to ensure the safety of the individual and prevent further injury. This may involve immobilizing the affected limb using a splint or sling to prevent movement and reduce pain. If the fracture is severe, hemorrhagic shock may occur, which requires immediate treatment in an emergency department.\\nIn the emergency department, the fracture will be assessed and treated based on its severity. For life-threatening injuries, surgical repair of arterial injuries or nerve damage may be necessary. For'"
      ]
     },
     "execution_count": 38,
     "metadata": {},
     "output_type": "execute_result"
    }
   ],
   "source": [
    "# User query5\n",
    "query5 = \"What are the necessary precautions and treatment steps for a person who has fractured their leg during a hiking trip, and what should be considered for their care and recovery?\"\n",
    "generate_rag_response(query5)"
   ]
  },
  {
   "cell_type": "markdown",
   "metadata": {
    "id": "K7TYrqycEITB"
   },
   "source": [
    "### Fine-tuning"
   ]
  },
  {
   "cell_type": "code",
   "execution_count": 39,
   "metadata": {
    "colab": {
     "base_uri": "https://localhost:8080/"
    },
    "executionInfo": {
     "elapsed": 72748,
     "status": "ok",
     "timestamp": 1752640384378,
     "user": {
      "displayName": "Arinjoy Paul",
      "userId": "07385845506721109358"
     },
     "user_tz": 300
    },
    "id": "7UYBR-hcReSo",
    "outputId": "cf858100-d685-4123-dbbe-ff8452b7653c"
   },
   "outputs": [
    {
     "name": "stdout",
     "output_type": "stream",
     "text": [
      "Question: What is the protocol for managing sepsis in a critical care unit?\n"
     ]
    },
    {
     "name": "stderr",
     "output_type": "stream",
     "text": [
      "Llama.generate: prefix-match hit\n"
     ]
    },
    {
     "name": "stdout",
     "output_type": "stream",
     "text": [
      "Answer: Sepsis is a serious condition that requires prompt diagnosis and treatment. In a critical care unit, the following steps should be taken if sepsis or septic shock is suspected:\n",
      "1. Obtain cultures of blood and any other appropriate specimens for laboratory testing.\n",
      "2. Begin empiric antibiotics as soon as possible, preferably within 1 hour of recognition of sepsis. The choice of antibiotics should be based on the most likely pathogens and the severity of illness.\n",
      "3. Provide supportive care, including fluids, antipyretics\n",
      "------------------------------------------------------------\n",
      "Question: What are the common symptoms for appendicitis, and can it be cured via medicine? If not, what surgical procedure should be followed to treat it?\n"
     ]
    },
    {
     "name": "stderr",
     "output_type": "stream",
     "text": [
      "Llama.generate: prefix-match hit\n"
     ]
    },
    {
     "name": "stdout",
     "output_type": "stream",
     "text": [
      "Answer: Appendicitis is a medical condition characterized by inflammation of the appendix, which results from obstruction of its lumen. Common symptoms include epigastric or periumbilical pain followed by brief nausea, vomiting, and anorexia, shifting to right lower quadrant pain after several hours, increased pain with coughing or motion, and tenderness at McBurney's point. However, these classic findings appear in less than 50% of patients, as symptoms can vary greatly. If left untreated, appendicitis can lead to necrosis\n",
      "------------------------------------------------------------\n",
      "Question: What are the effective treatments or solutions for addressing sudden patchy hair loss, commonly seen as localized bald spots on the scalp, and what could be the possible causes behind it?\n"
     ]
    },
    {
     "name": "stderr",
     "output_type": "stream",
     "text": [
      "Llama.generate: prefix-match hit\n"
     ]
    },
    {
     "name": "stdout",
     "output_type": "stream",
     "text": [
      "Answer: Sudden patchy hair loss, also known as alopecia areata, is a common autoimmune disorder that affects people with no obvious skin or systemic disorder. The scalp and beard are most frequently affected, but any hairy area may be involved. Hair loss may affect most or all of the body (alopecia universalis). \n",
      "The exact cause of alopecia areata is not known, but it's believed to be an autoimmune disorder affecting genetically susceptible people exposed to unclear environmental triggers. \n",
      "Treatment options for al\n",
      "------------------------------------------------------------\n",
      "Question: What treatments are recommended for a person who has sustained a physical injury to brain tissue, resulting in temporary or permanent impairment of brain function?\n"
     ]
    },
    {
     "name": "stderr",
     "output_type": "stream",
     "text": [
      "Llama.generate: prefix-match hit\n"
     ]
    },
    {
     "name": "stdout",
     "output_type": "stream",
     "text": [
      "Answer: Treatments for a person with a brain injury depend on the severity and location of the damage. For traumatic brain injuries (TBI), late seizures may develop weeks, months, or even years later, leading to motor impairments, gait and balance disturbances, ataxia, sensory losses, and in some cases, a persistent vegetative state. Speech therapists can help establish communication methods for patients with intact cognitive function. For severe injuries resulting in brain death, there is no recovery. Treatments to promote nerve regeneration are under study, including autologous macrophages\n",
      "------------------------------------------------------------\n",
      "Question: What are the necessary precautions and treatment steps for a person who has fractured their leg during a hiking trip, and what should be considered for their care and recovery?\n"
     ]
    },
    {
     "name": "stderr",
     "output_type": "stream",
     "text": [
      "Llama.generate: prefix-match hit\n"
     ]
    },
    {
     "name": "stdout",
     "output_type": "stream",
     "text": [
      "Answer: A fractured leg requires prompt medical attention. In an emergency situation, call for medical help if the injury appears severe or if the person is unable to walk. If it's safe to do so, try to immobilize the affected leg using a splint or a makeshift sling to prevent further injury and provide comfort.\n",
      "\n",
      "Once you reach a medical facility, the healthcare professionals will evaluate the extent of the fracture and determine the appropriate treatment. Depending on the type and severity of the fracture, the person may require surgery to realign the bone or have it set in a cast\n",
      "------------------------------------------------------------\n"
     ]
    }
   ],
   "source": [
    "# Setting the temperature to 0.5 and regenerating the LLM response\n",
    "temperature = 0.5\n",
    "queries = [query1 , query2, query3, query4, query5]\n",
    "\n",
    "# Looping through query to Re-generate the LLM response\n",
    "for query in queries:\n",
    "  print(f'Question: {query}')\n",
    "  print(f'{generate_rag_response(query,temperature=temperature)}')\n",
    "  print('-'*60)"
   ]
  },
  {
   "cell_type": "markdown",
   "metadata": {
    "id": "yyQrTipNfuBN"
   },
   "source": [
    "## Output Evaluation"
   ]
  },
  {
   "cell_type": "markdown",
   "metadata": {
    "id": "HbXMSxqa-65E"
   },
   "source": [
    "Let us now use the LLM-as-a-judge method to check the quality of the RAG system on two parameters - retrieval and generation. We illustrate this evaluation based on the answeres generated to the question from the previous section.\n",
    "\n",
    "- We are using the same Mistral model for evaluation, so basically here the llm is rating itself on how well he has performed in the task."
   ]
  },
  {
   "cell_type": "code",
   "execution_count": 40,
   "metadata": {
    "executionInfo": {
     "elapsed": 4,
     "status": "ok",
     "timestamp": 1752640649220,
     "user": {
      "displayName": "Arinjoy Paul",
      "userId": "07385845506721109358"
     },
     "user_tz": 300
    },
    "id": "IHbfLAxAGdhW"
   },
   "outputs": [],
   "source": [
    "groundedness_rater_system_message  = \"\"\"\n",
    "You are an impartial groundedness evaluator for a Medical Assistant chatbot. Your task is to check whether the assistant’s answer\n",
    "stays fully supported by the provided trusted medical sources. Do not rely on any external knowledge — only use the given context to judge.\n",
    "Highlight any parts of the answer that are not clearly supported by the sources. Rate how well the answer is grounded on a scale from 1 (not grounded) to 5\n",
    "(fully grounded) and briefly explain your reasoning.\"\"\""
   ]
  },
  {
   "cell_type": "code",
   "execution_count": 41,
   "metadata": {
    "executionInfo": {
     "elapsed": 8,
     "status": "ok",
     "timestamp": 1752640653091,
     "user": {
      "displayName": "Arinjoy Paul",
      "userId": "07385845506721109358"
     },
     "user_tz": 300
    },
    "id": "159OZZa0Rinv"
   },
   "outputs": [],
   "source": [
    "relevance_rater_system_message = \"\"\"\n",
    "You are an impartial relevance evaluator for a Medical Assistant chatbot. Your task is to check whether the assistant’s answer directly\n",
    "addresses the user’s question and stays relevant to the provided context. Do not add any new information or use outside knowledge.\n",
    "Identify any parts of the answer that are off-topic or unrelated. Then rate the overall relevance on a scale from 1 (not relevant) to 5 (fully relevant)\n",
    "and provide a short explanation for your rating.\"\"\""
   ]
  },
  {
   "cell_type": "code",
   "execution_count": 42,
   "metadata": {
    "executionInfo": {
     "elapsed": 39,
     "status": "ok",
     "timestamp": 1752640807258,
     "user": {
      "displayName": "Arinjoy Paul",
      "userId": "07385845506721109358"
     },
     "user_tz": 300
    },
    "id": "RLqiSn-iRwSl"
   },
   "outputs": [],
   "source": [
    "user_message_template = \"\"\"Use the context to answer the question.\n",
    "Context: {context}\n",
    "Question: {question}\"\"\""
   ]
  },
  {
   "cell_type": "code",
   "execution_count": 43,
   "metadata": {
    "executionInfo": {
     "elapsed": 4,
     "status": "ok",
     "timestamp": 1752640811522,
     "user": {
      "displayName": "Arinjoy Paul",
      "userId": "07385845506721109358"
     },
     "user_tz": 300
    },
    "id": "XIbZybyuRi2p"
   },
   "outputs": [],
   "source": [
    "def generate_ground_relevance_response(user_input,k=3,max_tokens=128,temperature=0,top_p=0.95,top_k=50):\n",
    "    global qna_system_message,qna_user_message_template\n",
    "    # Retrieve relevant document chunks\n",
    "    relevant_document_chunks = retriever.get_relevant_documents(query=user_input,k=3)\n",
    "    context_list = [d.page_content for d in relevant_document_chunks]\n",
    "    context_for_query = \". \".join(context_list)\n",
    "\n",
    "    # Combine user_prompt and system_message to create the prompt\n",
    "    prompt = f\"\"\"[INST]{qna_system_message}\\n\n",
    "                {'user'}: {qna_user_message_template.format(context=context_for_query, question=user_input)}\n",
    "                [/INST]\"\"\"\n",
    "\n",
    "    response = llm(\n",
    "            prompt=prompt,\n",
    "            max_tokens=max_tokens,\n",
    "            temperature=temperature,\n",
    "            top_p=top_p,\n",
    "            top_k=top_k,\n",
    "            stop=['INST'],\n",
    "            )\n",
    "\n",
    "    answer =  response[\"choices\"][0][\"text\"]\n",
    "\n",
    "    # Combine user_prompt and system_message to create the prompt\n",
    "    groundedness_prompt = f\"\"\"[INST]{groundedness_rater_system_message}\\n\n",
    "                {'user'}: {user_message_template.format(context=context_for_query, question=user_input, answer=answer)}\n",
    "                [/INST]\"\"\"\n",
    "\n",
    "    # Combine user_prompt and system_message to create the prompt\n",
    "    relevance_prompt = f\"\"\"[INST]{relevance_rater_system_message}\\n\n",
    "                {'user'}: {user_message_template.format(context=context_for_query, question=user_input, answer=answer)}\n",
    "                [/INST]\"\"\"\n",
    "\n",
    "    response_1 = llm(\n",
    "            prompt=groundedness_prompt,\n",
    "            max_tokens=max_tokens,\n",
    "            temperature=temperature,\n",
    "            top_p=top_p,\n",
    "            top_k=top_k,\n",
    "            stop=['INST'],\n",
    "            )\n",
    "\n",
    "    response_2 = llm(\n",
    "            prompt=relevance_prompt,\n",
    "            max_tokens=max_tokens,\n",
    "            temperature=temperature,\n",
    "            top_p=top_p,\n",
    "            top_k=top_k,\n",
    "            stop=['INST'],\n",
    "            )\n",
    "\n",
    "    return response_1['choices'][0]['text'],response_2['choices'][0]['text']"
   ]
  },
  {
   "cell_type": "markdown",
   "metadata": {
    "id": "f6qxqyJLYA2x"
   },
   "source": [
    "### Query 1: What is the protocol for managing sepsis in a critical care unit?"
   ]
  },
  {
   "cell_type": "code",
   "execution_count": 47,
   "metadata": {
    "colab": {
     "base_uri": "https://localhost:8080/"
    },
    "executionInfo": {
     "elapsed": 52973,
     "status": "ok",
     "timestamp": 1752641300356,
     "user": {
      "displayName": "Arinjoy Paul",
      "userId": "07385845506721109358"
     },
     "user_tz": 300
    },
    "id": "ANzurSjuYA2x",
    "outputId": "0ddc668d-9f84-4d99-eef5-7681347a1c8e"
   },
   "outputs": [
    {
     "name": "stderr",
     "output_type": "stream",
     "text": [
      "Llama.generate: prefix-match hit\n",
      "Llama.generate: prefix-match hit\n",
      "Llama.generate: prefix-match hit\n"
     ]
    },
    {
     "name": "stdout",
     "output_type": "stream",
     "text": [
      "Grounding: \n",
      " Based on the context provided, the answer to the question would be as follows:\n",
      "\n",
      "Answer: If bacteremia, sepsis, or septic shock is suspected in a critically ill patient, cultures are obtained of blood and any other appropriate specimens. Empiric antibiotics are given after appropriate cultures are obtained, and early treatment appears to improve survival. Continuing therapy involves adjusting antibiotics according to the results of culture and susceptibility testing, surgically draining any abscesses, and usually removing any internal devices that are the suspected source of bacteria.\n",
      "\n",
      "Explanation:\n",
      "------------------------------------------------------------\n",
      "Relevance: \n",
      " Answer: The protocol for managing sepsis in a critical care unit includes obtaining cultures of blood and any other appropriate specimens, administering empiric antibiotics after cultures are obtained, adjusting antibiotics according to culture and susceptibility testing results, surgically draining any abscesses, removing internal devices that may be the source of bacteria, and providing supportive care such as fluids, antipyretics, analgesics, and oxygen for patients with hypoxemia.\n",
      "\n",
      "Explanation: The user's question specifically asks about managing sepsis in a critical care unit.\n"
     ]
    }
   ],
   "source": [
    "# User query1\n",
    "query1 = \"What is the protocol for managing sepsis in a critical care unit?\"\n",
    "ground, relevance = generate_ground_relevance_response(query1)\n",
    "print(f'Grounding: \\n{ground}')\n",
    "print('-'*60)\n",
    "print(f'Relevance: \\n{relevance}')"
   ]
  },
  {
   "cell_type": "markdown",
   "metadata": {
    "id": "7A60Q6x3YA2y"
   },
   "source": [
    "### Query 2: What are the common symptoms for appendicitis, and can it be cured via medicine? If not, what surgical procedure should be followed to treat it?"
   ]
  },
  {
   "cell_type": "code",
   "execution_count": 49,
   "metadata": {
    "colab": {
     "base_uri": "https://localhost:8080/"
    },
    "executionInfo": {
     "elapsed": 52180,
     "status": "ok",
     "timestamp": 1752641374894,
     "user": {
      "displayName": "Arinjoy Paul",
      "userId": "07385845506721109358"
     },
     "user_tz": 300
    },
    "id": "LOZQyoLwYA2y",
    "outputId": "9e162863-5505-4cbb-b755-d3476c706583"
   },
   "outputs": [
    {
     "name": "stderr",
     "output_type": "stream",
     "text": [
      "Llama.generate: prefix-match hit\n",
      "Llama.generate: prefix-match hit\n",
      "Llama.generate: prefix-match hit\n"
     ]
    },
    {
     "name": "stdout",
     "output_type": "stream",
     "text": [
      "Grounding: \n",
      " Answer: The common symptoms of appendicitis include epigastric or periumbilical pain followed by brief nausea, vomiting, and anorexia, which is then followed by pain shifting to the right lower quadrant. Pain increases with cough and motion. Classic signs are direct and rebound tenderness located at McBurney's point, Rovsing sign, psoas sign, or obturator sign. Low-grade fever (37.7 to 38.3°C) is common, but these classic findings appear in less than 50% of patients.\n",
      "------------------------------------------------------------\n",
      "Relevance: \n",
      " Answer: The common symptoms of appendicitis include epigastric or periumbilical pain followed by brief nausea, vomiting, and anorexia, which is then followed by pain shifting to the right lower quadrant. Pain increases with cough and motion. Classic signs are direct and rebound tenderness located at McBurney's point, Rovsing sign, psoas sign, or obturator sign. Low-grade fever (37.7 to 38.3°C) is common, but these classic findings appear in less than 50% of patients.\n"
     ]
    }
   ],
   "source": [
    "# User query2\n",
    "query2 = \"What are the common symptoms for appendicitis, and can it be cured via medicine? If not, what surgical procedure should be followed to treat it?\"\n",
    "ground, relevance = generate_ground_relevance_response(query2)\n",
    "print(f'Grounding: \\n{ground}')\n",
    "print('-'*60)\n",
    "print(f'Relevance: \\n{relevance}')"
   ]
  },
  {
   "cell_type": "markdown",
   "metadata": {
    "id": "ZmYnriTdYA2z"
   },
   "source": [
    "### Query 3: What are the effective treatments or solutions for addressing sudden patchy hair loss, commonly seen as localized bald spots on the scalp, and what could be the possible causes behind it?"
   ]
  },
  {
   "cell_type": "code",
   "execution_count": 50,
   "metadata": {
    "colab": {
     "base_uri": "https://localhost:8080/"
    },
    "executionInfo": {
     "elapsed": 45720,
     "status": "ok",
     "timestamp": 1752641420612,
     "user": {
      "displayName": "Arinjoy Paul",
      "userId": "07385845506721109358"
     },
     "user_tz": 300
    },
    "id": "Qp898M2iYA2z",
    "outputId": "4d5cc72e-01a7-4ef0-9df8-922658f41829"
   },
   "outputs": [
    {
     "name": "stderr",
     "output_type": "stream",
     "text": [
      "Llama.generate: prefix-match hit\n",
      "Llama.generate: prefix-match hit\n",
      "Llama.generate: prefix-match hit\n"
     ]
    },
    {
     "name": "stdout",
     "output_type": "stream",
     "text": [
      "Grounding: \n",
      " Based on the context provided, the question asks about treatments for sudden patchy hair loss, which is a description of alopecia areata. The sources clearly support that alopecia areata is an autoimmune disorder causing sudden patchy hair loss and that various treatment options exist for it. These include topical, intralesional, or systemic corticosteroids, topical minoxidil, topical anthralin, topical immunotherapy (diphencyprone or squaric acid dibutylester), or psoralen plus ultraviolet A (PUVA\n",
      "------------------------------------------------------------\n",
      "Relevance: \n",
      " Answer: The context provided discusses various types of alopecia, including alopecia areata which is characterized by sudden patchy hair loss. According to the text, treatment options for alopecia areata include topical, intralesional, or systemic corticosteroids, topical minoxidil, topical anthralin, topical immunotherapy (diphencyprone or squaric acid dibutylester), or psoralen plus ultraviolet A (PUVA). Hormonal modulators such as oral contraceptives or spiron\n"
     ]
    }
   ],
   "source": [
    "# User query3\n",
    "query3 = \"What are the effective treatments or solutions for addressing sudden patchy hair loss, commonly seen as localized bald spots on the scalp, and what could be the possible causes behind it?\"\n",
    "ground, relevance = generate_ground_relevance_response(query3)\n",
    "print(f'Grounding: \\n{ground}')\n",
    "print('-'*60)\n",
    "print(f'Relevance: \\n{relevance}')"
   ]
  },
  {
   "cell_type": "markdown",
   "metadata": {
    "id": "jz-lGsVxYA2z"
   },
   "source": [
    "### Query 4: What treatments are recommended for a person who has sustained a physical injury to brain tissue, resulting in temporary or permanent impairment of brain function?"
   ]
  },
  {
   "cell_type": "code",
   "execution_count": 51,
   "metadata": {
    "colab": {
     "base_uri": "https://localhost:8080/"
    },
    "executionInfo": {
     "elapsed": 28765,
     "status": "ok",
     "timestamp": 1752641449382,
     "user": {
      "displayName": "Arinjoy Paul",
      "userId": "07385845506721109358"
     },
     "user_tz": 300
    },
    "id": "gBRTYnFVYA2z",
    "outputId": "97c207c0-8d76-4002-8a80-7dd6777ac715"
   },
   "outputs": [
    {
     "name": "stderr",
     "output_type": "stream",
     "text": [
      "Llama.generate: prefix-match hit\n",
      "Llama.generate: prefix-match hit\n",
      "Llama.generate: prefix-match hit\n"
     ]
    },
    {
     "name": "stdout",
     "output_type": "stream",
     "text": [
      "Grounding: \n",
      " Based on the provided context from The Merck Manual of Diagnosis & Therapy, 19th Edition, the following treatments are mentioned for a person who has sustained a physical injury to brain tissue:\n",
      "\n",
      "1. Speech therapists may help establish a communication code using eye blinks or movements.\n",
      "2. Treatments to promote nerve regeneration are under study, including injections of autologous, incubated macrophages; epidural administration of BA-210, an experimental drug that may be neuroprotective and may stimulate nerve growth; and oral administration of HP-18\n",
      "------------------------------------------------------------\n",
      "Relevance: \n",
      " Answer: The context discusses various neurological conditions following traumatic brain injuries (TBI), including decreased intellectual function, persistent vegetative state, and brain death. While some treatments are mentioned, such as speech therapy for communication and research on nerve regeneration, the answer does not directly address the question about recommended treatments for a person with temporary or permanent impairment of brain function due to a physical injury to brain tissue.\n",
      "\n",
      "Rating: 1 (not relevant)\n",
      "\n",
      "Explanation: The context discusses various neurological conditions and their potential treatments following TBIs, but it does not directly\n"
     ]
    }
   ],
   "source": [
    "# User query4\n",
    "query4 = \"What treatments are recommended for a person who has sustained a physical injury to brain tissue, resulting in temporary or permanent impairment of brain function?\"\n",
    "ground, relevance = generate_ground_relevance_response(query4)\n",
    "print(f'Grounding: \\n{ground}')\n",
    "print('-'*60)\n",
    "print(f'Relevance: \\n{relevance}')"
   ]
  },
  {
   "cell_type": "markdown",
   "metadata": {
    "id": "x2WxSxzDYA2z"
   },
   "source": [
    "### Query 5: What are the necessary precautions and treatment steps for a person who has fractured their leg during a hiking trip, and what should be considered for their care and recovery?"
   ]
  },
  {
   "cell_type": "code",
   "execution_count": 52,
   "metadata": {
    "colab": {
     "base_uri": "https://localhost:8080/"
    },
    "executionInfo": {
     "elapsed": 44823,
     "status": "ok",
     "timestamp": 1752641494207,
     "user": {
      "displayName": "Arinjoy Paul",
      "userId": "07385845506721109358"
     },
     "user_tz": 300
    },
    "id": "mKCq09_YYA20",
    "outputId": "bad4faf9-4eb9-41b7-8d2e-13de12867ecd"
   },
   "outputs": [
    {
     "name": "stderr",
     "output_type": "stream",
     "text": [
      "Llama.generate: prefix-match hit\n",
      "Llama.generate: prefix-match hit\n",
      "Llama.generate: prefix-match hit\n"
     ]
    },
    {
     "name": "stdout",
     "output_type": "stream",
     "text": [
      "Grounding: \n",
      " Based on the context provided, the answer to the question would include the following precautions and treatment steps for a person who has fractured their leg during a hiking trip:\n",
      "\n",
      "1. Treatment of life-threatening injuries: If there are any signs of life-threatening injuries, such as excessive bleeding or shock, prioritize these conditions and seek immediate medical attention.\n",
      "2. Splinting: Immediately immobilize the fractured leg using a nonrigid or noncircumferential splint to prevent further injury and decrease pain. This can help prevent fat embolism in\n",
      "------------------------------------------------------------\n",
      "Relevance: \n",
      " The user's question asks about the necessary precautions and treatment steps for someone who has fractured their leg during a hiking trip. The context provided discusses various treatments for injuries, including arterial injuries, nerve injuries, and soft tissue injuries. The answer directly addresses the user's question by discussing the initial steps for treating a fractured leg, such as immobilization with a splint or cast, pain management, and definitive treatment like reduction. The context is relevant to the discussion of the necessary precautions and treatment steps for a person who has fractured their leg during a hiking trip. Therefore\n"
     ]
    }
   ],
   "source": [
    "# User query5\n",
    "query5 = \"What are the necessary precautions and treatment steps for a person who has fractured their leg during a hiking trip, and what should be considered for their care and recovery?\"\n",
    "ground, relevance = generate_ground_relevance_response(query5)\n",
    "print(f'Grounding: \\n{ground}')\n",
    "print('-'*60)\n",
    "print(f'Relevance: \\n{relevance}')"
   ]
  },
  {
   "cell_type": "markdown",
   "metadata": {
    "id": "Y7QICRU-njdj"
   },
   "source": [
    "## Actionable Insights and Business Recommendations"
   ]
  },
  {
   "cell_type": "markdown",
   "metadata": {
    "id": "8Raiwfo8lLTf"
   },
   "source": [
    "####Based on the analysis and the implemented RAG system, here are some actionable insights and business recommendations:\n",
    "\n",
    "\n",
    "---\n",
    "\n",
    "\n",
    "**Actionable Insights:**\n",
    "\n",
    "* **Adding Trusted Sources Improves Accuracy**: Integrating a RAG approach with trusted medical references, like the Merck Manual, clearly improves the quality of answers for specific medical questions. Compared to a base language model, this setup produces responses that are more reliable and relevant, highlighting the value of providing vetted context for medical queries.\n",
    "\n",
    "* **Fine-Tuning Helps Adjust the Tone and Detail**: Modifying the temperature parameter has a clear impact on how responses are phrased. Keeping it low (around 0) results in more consistent and cautious answers, while a moderate setting (such as 0.5) allows for more natural variation in wording while still respecting the facts. The right setting depends on how much nuance or conservativeness is needed for different types of questions.\n",
    "\n",
    "* **Good Context Retrieval Drives Better Grounding**: The evaluation shows that the accuracy of answers depends heavily on how closely the retrieved text matches the user’s question. This means that careful tuning of the retriever and vector store is essential to ensure that the information the system draws from stays relevant and factual.\n",
    "\n",
    "* **A Clear System Prompt Reinforces Safe Use**: The system prompt used here does its job well by steering the model to act as a responsible assistant — it avoids stepping into diagnosis or treatment advice and always reminds users to consult a qualified doctor. This layer of guidance is vital for keeping the tool safe and trustworthy.\n",
    "\n",
    "* **Chunking Strategy Matters**: Using a chunk size of 1,000 tokens with a 200-token overlap works well for pulling meaningful information from the Merck Manual. That said, it’s worth testing different chunk sizes and overlaps for other medical sources to find the best balance between context coverage and retrieval precision.\n",
    "\n",
    "\n",
    "\n",
    "---\n",
    "\n",
    "\n",
    "**Business Recommendations**\n",
    "\n",
    "* **Put the RAG Tool into Daily Practice**: Roll out the RAG-based AI as an internal support tool for medical staff. It can be connected to Electronic Health Record (EHR) systems or offered through a secure web or mobile app to make it easy to access during daily workflows.\n",
    "\n",
    "* **Broaden the Reference Material**: While the Merck Manual is an excellent foundation, expanding the knowledge base to include clinical guidelines, medical journals, and specialty textbooks will strengthen the assistant’s usefulness and depth of information.\n",
    "\n",
    "* **Gather User Feedback Continuously**: Build in a simple way for medical staff to rate responses or flag anything unclear. This feedback loop will help keep the AI’s answers accurate and aligned with users’ needs over time.\n",
    "\n",
    "* **Design a User-Friendly Interface**: Develop an interface that makes it easy to ask and refine questions. Features like auto-suggestions, keyword highlights in retrieved text, or the option to add more context can help clinicians get more precise answers quickly.\n",
    "\n",
    "* **Start with High-Impact Areas**: Focus the initial rollout on specific situations where quick, reliable information is most valuable — for example, supporting emergency room teams, primary care doctors, or specialty clinics. This phased approach allows for careful testing and adjustments.\n",
    "\n",
    "* **Prioritize Privacy and Compliance**: Medical information is highly sensitive, so any deployment must meet strict security and privacy standards like HIPAA. Make sure data is processed and stored securely and that the system is built to comply with all relevant regulations.\n",
    "\n",
    "* **Track Use and Improve**: Keep an eye on how the system performs — monitor response times, check accuracy through periodic expert reviews, and measure how widely it’s used. These insights will highlight where refinements are needed.\n",
    "\n",
    "* **Plan for Future Upgrades**: Once the core system is stable, look into adding new capabilities. Possibilities include accepting images (with careful disclaimers), providing concise summaries, connecting to diagnostic support tools (while clearly stating it doesn’t replace medical judgment), or customizing answers by role or specialty to make the information even more useful."
   ]
  },
  {
   "cell_type": "markdown",
   "metadata": {
    "id": "ybRlzaIhWaM9"
   },
   "source": [
    "<font size=6 color='blue'>Power Ahead</font>\n",
    "___"
   ]
  }
 ],
 "metadata": {
  "accelerator": "GPU",
  "colab": {
   "gpuType": "T4",
   "provenance": []
  },
  "kernel_info": {
   "name": "python310-sdkv2"
  },
  "kernelspec": {
   "display_name": "Python 3",
   "name": "python3"
  },
  "language_info": {
   "name": "python"
  },
  "microsoft": {
   "host": {
    "AzureML": {
     "notebookHasBeenCompleted": true
    }
   },
   "ms_spell_check": {
    "ms_spell_check_language": "en"
   }
  },
  "nteract": {
   "version": "nteract-front-end@1.0.0"
  }
 },
 "nbformat": 4,
 "nbformat_minor": 0
}
